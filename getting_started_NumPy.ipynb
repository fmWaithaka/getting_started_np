{
  "nbformat": 4,
  "nbformat_minor": 0,
  "metadata": {
    "colab": {
      "provenance": [],
      "authorship_tag": "ABX9TyPqGnYSqih+Kclo7SnPR2ZH",
      "include_colab_link": true
    },
    "kernelspec": {
      "name": "python3",
      "display_name": "Python 3"
    },
    "language_info": {
      "name": "python"
    }
  },
  "cells": [
    {
      "cell_type": "markdown",
      "metadata": {
        "id": "view-in-github",
        "colab_type": "text"
      },
      "source": [
        "<a href=\"https://colab.research.google.com/github/waithakaFM910/getting_started_np/blob/main/getting_started_NumPy.ipynb\" target=\"_parent\"><img src=\"https://colab.research.google.com/assets/colab-badge.svg\" alt=\"Open In Colab\"/></a>"
      ]
    },
    {
      "cell_type": "markdown",
      "source": [
        "#Numpy Basics: Arrays and Vectorized Computation"
      ],
      "metadata": {
        "id": "rbH39m9nKC03"
      }
    },
    {
      "cell_type": "markdown",
      "source": [
        "What is Numpy?\n",
        "* Numerical Python, Numpy, is a library in Python that works well with numbers and data\n",
        "\n",
        "It offers some of these fantatist features:\n",
        "  * `ndarray` - Numpy gives you a super-efficient way to work with arrays of numbers. You can think of these arrays as lists of numbers, but they're incredibly fast and use memory efficiently. You can easily perform calculations on entire arrays without writing complicated loops.\n",
        "  * Standard mathematics functions for fast operations on entire arrays of data without the need of writing loops.With Numpy, you can perform all sorts of math operations on these arrays with just a single line of code. Say goodbye to writing lengthy loops for simple math!\n",
        "  * Numpy also helps you read and write data to your computer's disk. It's like a handy tool for managing data files, making it easy to load and save your work.\n",
        "  * Hepls you perform tasks like linear algebra, random number genration and Fourier transform capabilities\n",
        "  * Tools for intergrating code written in C, C++ and Fortran"
      ],
      "metadata": {
        "id": "z_3DdIfHLpXh"
      }
    },
    {
      "cell_type": "markdown",
      "source": [
        "### Creating ndarrays\n",
        "\n",
        "One of the essiest way to create an array is to use `array` fuction.\n",
        "It accepts any sequence-like object(including other arrays) and produces a new NumPy array containing the passed data."
      ],
      "metadata": {
        "id": "9KN_-etiS2ZQ"
      }
    },
    {
      "cell_type": "code",
      "source": [
        "# import numpy\n",
        "import numpy as np"
      ],
      "metadata": {
        "id": "EwZaxWjdTj2y"
      },
      "execution_count": null,
      "outputs": []
    },
    {
      "cell_type": "code",
      "source": [
        "data1 = [6, 7.5, 8, 0 ,1]\n",
        "arr1 = np.array(data1)\n",
        "arr1"
      ],
      "metadata": {
        "colab": {
          "base_uri": "https://localhost:8080/"
        },
        "id": "LkuJ9IhYTsgw",
        "outputId": "af28cbc4-739a-42b5-d67f-7574f13ddb33"
      },
      "execution_count": null,
      "outputs": [
        {
          "output_type": "execute_result",
          "data": {
            "text/plain": [
              "array([6. , 7.5, 8. , 0. , 1. ])"
            ]
          },
          "metadata": {},
          "execution_count": 2
        }
      ]
    },
    {
      "cell_type": "markdown",
      "source": [
        "let's check the data type of arr1"
      ],
      "metadata": {
        "id": "MRps7PxoT7Pq"
      }
    },
    {
      "cell_type": "code",
      "source": [
        "arr1.dtype"
      ],
      "metadata": {
        "colab": {
          "base_uri": "https://localhost:8080/"
        },
        "id": "brbsoVOcUE-r",
        "outputId": "1fb96877-344f-48f6-c8bb-accbf09ab2b9"
      },
      "execution_count": null,
      "outputs": [
        {
          "output_type": "execute_result",
          "data": {
            "text/plain": [
              "dtype('float64')"
            ]
          },
          "metadata": {},
          "execution_count": 3
        }
      ]
    },
    {
      "cell_type": "markdown",
      "source": [
        "Let's check the `shape`, a tuple indicating the size of each dimension."
      ],
      "metadata": {
        "id": "2P1-csfgXMTY"
      }
    },
    {
      "cell_type": "code",
      "source": [
        "arr1.shape"
      ],
      "metadata": {
        "colab": {
          "base_uri": "https://localhost:8080/"
        },
        "id": "o3mZFbx8XRCx",
        "outputId": "6e04900b-fea2-4e7f-d86a-533f8eeb5ee6"
      },
      "execution_count": null,
      "outputs": [
        {
          "output_type": "execute_result",
          "data": {
            "text/plain": [
              "(5,)"
            ]
          },
          "metadata": {},
          "execution_count": 4
        }
      ]
    },
    {
      "cell_type": "markdown",
      "source": [
        "Nested sequences, like a list of equal-lenth list, will  be converted into a multidimension array."
      ],
      "metadata": {
        "id": "W0p4_8tJUKp5"
      }
    },
    {
      "cell_type": "code",
      "source": [
        "data2 = [[1, 2, 3, 4], [5, 6, 7, 8]]\n",
        "arr2 = np.array(data2)\n",
        "arr2"
      ],
      "metadata": {
        "colab": {
          "base_uri": "https://localhost:8080/"
        },
        "id": "v-q78xxmW9CT",
        "outputId": "49b6f22d-9150-4c10-ee32-38fb39425a8d"
      },
      "execution_count": null,
      "outputs": [
        {
          "output_type": "execute_result",
          "data": {
            "text/plain": [
              "array([[1, 2, 3, 4],\n",
              "       [5, 6, 7, 8]])"
            ]
          },
          "metadata": {},
          "execution_count": 5
        }
      ]
    },
    {
      "cell_type": "markdown",
      "source": [
        "Lets check number of dimension using `ndim` function"
      ],
      "metadata": {
        "id": "QMY3Da66Xt7c"
      }
    },
    {
      "cell_type": "code",
      "source": [
        "arr2.ndim"
      ],
      "metadata": {
        "colab": {
          "base_uri": "https://localhost:8080/"
        },
        "id": "OhRO2iPkX22v",
        "outputId": "09315f6c-c302-4273-c562-d6ebd8eecd44"
      },
      "execution_count": null,
      "outputs": [
        {
          "output_type": "execute_result",
          "data": {
            "text/plain": [
              "2"
            ]
          },
          "metadata": {},
          "execution_count": 6
        }
      ]
    },
    {
      "cell_type": "markdown",
      "source": [
        "What about the shape"
      ],
      "metadata": {
        "id": "XcNQmMd7X8A1"
      }
    },
    {
      "cell_type": "code",
      "source": [
        "arr2.shape"
      ],
      "metadata": {
        "colab": {
          "base_uri": "https://localhost:8080/"
        },
        "id": "SweQ2NbyXJnt",
        "outputId": "8250a3db-de23-412d-9144-db9d94c7b6cf"
      },
      "execution_count": null,
      "outputs": [
        {
          "output_type": "execute_result",
          "data": {
            "text/plain": [
              "(2, 4)"
            ]
          },
          "metadata": {},
          "execution_count": 7
        }
      ]
    },
    {
      "cell_type": "code",
      "source": [
        "arr2.dtype"
      ],
      "metadata": {
        "colab": {
          "base_uri": "https://localhost:8080/"
        },
        "id": "Dr7bgvspXoME",
        "outputId": "ab0fde29-53fc-4eac-c8da-b73160e6e559"
      },
      "execution_count": null,
      "outputs": [
        {
          "output_type": "execute_result",
          "data": {
            "text/plain": [
              "dtype('int64')"
            ]
          },
          "metadata": {},
          "execution_count": 8
        }
      ]
    },
    {
      "cell_type": "markdown",
      "source": [
        "Another way to create new arrays is by using `.zeros` and `.ones` function to create arrays of 1's and 0's, repectively with a given range and shape.\n",
        "\n",
        "`.empty` creates an array without initializing its valurs to any particular value.\n",
        "Imagine you have a box with compartments (like a tray of ice cubes), and you want to reserve some space for later use without putting anything in those compartments just yet. `np.empty` creates that kind of reserved space in memory for your data, but it doesn't fill it with any specific values. It return uninialized garbage values.\n",
        "\n",
        "\n",
        "To create a higher dimensional array with this these methods, pass a tuple for the shape."
      ],
      "metadata": {
        "id": "AsmI8RFGYKGf"
      }
    },
    {
      "cell_type": "code",
      "source": [
        "# create an array of 0's in range of 0 - 10\n",
        "np.zeros(10)"
      ],
      "metadata": {
        "colab": {
          "base_uri": "https://localhost:8080/"
        },
        "id": "ojbp1mSQZObs",
        "outputId": "1e750d05-346e-4f2b-e138-ea0f6a48d08e"
      },
      "execution_count": null,
      "outputs": [
        {
          "output_type": "execute_result",
          "data": {
            "text/plain": [
              "array([0., 0., 0., 0., 0., 0., 0., 0., 0., 0.])"
            ]
          },
          "metadata": {},
          "execution_count": 9
        }
      ]
    },
    {
      "cell_type": "code",
      "source": [
        "# Create a 3x6 array filled with 1's\n",
        "np.ones((3, 6))"
      ],
      "metadata": {
        "colab": {
          "base_uri": "https://localhost:8080/"
        },
        "id": "QpBsP5kuZTED",
        "outputId": "64bbb2e9-635f-4102-b30f-d36868a8e750"
      },
      "execution_count": null,
      "outputs": [
        {
          "output_type": "execute_result",
          "data": {
            "text/plain": [
              "array([[1., 1., 1., 1., 1., 1.],\n",
              "       [1., 1., 1., 1., 1., 1.],\n",
              "       [1., 1., 1., 1., 1., 1.]])"
            ]
          },
          "metadata": {},
          "execution_count": 10
        }
      ]
    },
    {
      "cell_type": "code",
      "source": [
        "# Create an empty 3-dimensional array with shape (2, 3, 2)\n",
        "np.empty((2, 3, 2))"
      ],
      "metadata": {
        "colab": {
          "base_uri": "https://localhost:8080/"
        },
        "id": "YYY4L9IPZ5TD",
        "outputId": "eaf10d58-e00d-4bb1-fd37-a752c71e5703"
      },
      "execution_count": null,
      "outputs": [
        {
          "output_type": "execute_result",
          "data": {
            "text/plain": [
              "array([[[4.88436585e-310, 0.00000000e+000],\n",
              "        [0.00000000e+000, 0.00000000e+000],\n",
              "        [0.00000000e+000, 0.00000000e+000]],\n",
              "\n",
              "       [[0.00000000e+000, 0.00000000e+000],\n",
              "        [0.00000000e+000, 0.00000000e+000],\n",
              "        [0.00000000e+000, 0.00000000e+000]]])"
            ]
          },
          "metadata": {},
          "execution_count": 11
        }
      ]
    },
    {
      "cell_type": "markdown",
      "source": [
        "Functions used in Numpy:\n",
        "* `array` - convert input data(sequence-like-data) to an ndarray either by inferring a dytpe.  It can guess what kind of data it holds or you can tell it. It also makes a copy of your data by default to keep it safe.\n",
        "* `asarray` - convert input to ndarray, but do not copy if the input is already an ndarray.\n",
        "* `arange` -  Like the build-in range but returns an ndarray instead of a list.\n",
        "* `ones`, `one_like` - Produces an arrays of all 1's with the given shape and dtype.\n",
        "* `zeros`, `zeros_like` - Like `ones` and `one_like` but producing arrays of 0's instead\n",
        "* `empty`, `empty_like` - Create new arrays by allocating new memory, but do not populate with any value like ones and zeros\n",
        "* `eye`, `identity` - Create a square N * N identity matrix(1's on the diagonal and 0's elsewhere)"
      ],
      "metadata": {
        "id": "x4v9FObdaMPR"
      }
    },
    {
      "cell_type": "markdown",
      "source": [
        "###Data Type for ndarrays\n",
        "\n",
        "The *data type* or `dtype` is a special type of object containing the information the ndarray needs to interpret a chunk of memory as a particular type of data.\n",
        "\n",
        "\n",
        "Dtypes in NumPy are a big part of what makes it so useful. They represent how numbers are stored in your computer, making it easy to work with data files and connect with other programming languages like C or Fortran.\n",
        "\n",
        "For example, `float64` means a number is stored as a standard double-precision floating-point value, which takes up 8 bytes (or 64 bits) in your computer's memory.\n",
        "\n",
        "You can think of dtypes as labels that tell NumPy how to understand and manipulate numbers"
      ],
      "metadata": {
        "id": "fS5N3L8My9Ze"
      }
    },
    {
      "cell_type": "code",
      "source": [
        "# Create a NumPy array of type float64\n",
        "arr1 = np.array([1, 2, 3, 4], dtype=np.float64)\n",
        "arr2 = np.array([1, 2, 3, 4], dtype=np.int32)\n",
        "\n",
        "arr1.dtype, arr2.dtype"
      ],
      "metadata": {
        "colab": {
          "base_uri": "https://localhost:8080/"
        },
        "id": "BgTN7lX6zqse",
        "outputId": "87efcd62-7ed6-4ede-e3aa-0fe028f56c14"
      },
      "execution_count": null,
      "outputs": [
        {
          "output_type": "execute_result",
          "data": {
            "text/plain": [
              "(dtype('float64'), dtype('int32'))"
            ]
          },
          "metadata": {},
          "execution_count": 12
        }
      ]
    },
    {
      "cell_type": "markdown",
      "source": [
        "You can explicitly convert or cast na array from one dtype to another using ndarray's `astype` method:"
      ],
      "metadata": {
        "id": "w9ekIoki0-PG"
      }
    },
    {
      "cell_type": "code",
      "source": [
        "arr = np.array([1, 2, 3, 4, 5])\n",
        "arr.dtype"
      ],
      "metadata": {
        "colab": {
          "base_uri": "https://localhost:8080/"
        },
        "id": "R37wCRW22LJg",
        "outputId": "0fec46a5-7a37-4a49-cc8b-a0d932d76fef"
      },
      "execution_count": null,
      "outputs": [
        {
          "output_type": "execute_result",
          "data": {
            "text/plain": [
              "dtype('int64')"
            ]
          },
          "metadata": {},
          "execution_count": 13
        }
      ]
    },
    {
      "cell_type": "code",
      "source": [
        "float_arr = arr.astype(np.float64)\n",
        "float_arr.dtype"
      ],
      "metadata": {
        "colab": {
          "base_uri": "https://localhost:8080/"
        },
        "id": "CR_LO2mC2TzL",
        "outputId": "e08b8dca-2044-4f0f-8406-6b25a49d23a5"
      },
      "execution_count": null,
      "outputs": [
        {
          "output_type": "execute_result",
          "data": {
            "text/plain": [
              "dtype('float64')"
            ]
          },
          "metadata": {},
          "execution_count": 14
        }
      ]
    },
    {
      "cell_type": "markdown",
      "source": [
        "If we cast floating point to integer dtype, the decimal part will be truncated."
      ],
      "metadata": {
        "id": "Y6wJ7glP2hfH"
      }
    },
    {
      "cell_type": "code",
      "source": [
        "arr = np.array([3.7, -1.2, -2.6, 0.5, 12,9, 10.1])\n",
        "arr"
      ],
      "metadata": {
        "colab": {
          "base_uri": "https://localhost:8080/"
        },
        "id": "lR1pJs-m2xJ7",
        "outputId": "b793dd35-611e-4652-f2d7-4d51ca89900d"
      },
      "execution_count": null,
      "outputs": [
        {
          "output_type": "execute_result",
          "data": {
            "text/plain": [
              "array([ 3.7, -1.2, -2.6,  0.5, 12. ,  9. , 10.1])"
            ]
          },
          "metadata": {},
          "execution_count": 15
        }
      ]
    },
    {
      "cell_type": "code",
      "source": [
        "arr.astype(np.int32)"
      ],
      "metadata": {
        "colab": {
          "base_uri": "https://localhost:8080/"
        },
        "id": "_K5eQC_l26mU",
        "outputId": "12fc9f58-3add-43b1-c60b-4928cd73fb16"
      },
      "execution_count": null,
      "outputs": [
        {
          "output_type": "execute_result",
          "data": {
            "text/plain": [
              "array([ 3, -1, -2,  0, 12,  9, 10], dtype=int32)"
            ]
          },
          "metadata": {},
          "execution_count": 16
        }
      ]
    },
    {
      "cell_type": "markdown",
      "source": [
        "We can also convert an array of strings to numeric form and vice verser"
      ],
      "metadata": {
        "id": "DjB8XMku3HoF"
      }
    },
    {
      "cell_type": "code",
      "source": [
        "numeric_strings = np.array(['1.25', '-9.8', '34'], dtype=np.string_)\n",
        "numeric_strings.astype(np.float64)"
      ],
      "metadata": {
        "colab": {
          "base_uri": "https://localhost:8080/"
        },
        "id": "ZHe0-6wK3VCA",
        "outputId": "fe3cbe98-07ca-4b0c-f2d5-0b5c4813ca1f"
      },
      "execution_count": null,
      "outputs": [
        {
          "output_type": "execute_result",
          "data": {
            "text/plain": [
              "array([ 1.25, -9.8 , 34.  ])"
            ]
          },
          "metadata": {},
          "execution_count": 17
        }
      ]
    },
    {
      "cell_type": "code",
      "source": [
        "float_arr.astype(np.string_)"
      ],
      "metadata": {
        "colab": {
          "base_uri": "https://localhost:8080/"
        },
        "id": "GlW88DSx3qPB",
        "outputId": "954dfbe5-ae53-4e8b-d09e-6b64aaf3516b"
      },
      "execution_count": null,
      "outputs": [
        {
          "output_type": "execute_result",
          "data": {
            "text/plain": [
              "array([b'1.0', b'2.0', b'3.0', b'4.0', b'5.0'], dtype='|S32')"
            ]
          },
          "metadata": {},
          "execution_count": 18
        }
      ]
    },
    {
      "cell_type": "markdown",
      "source": [
        "The output ``[b'1.0', b'2.0', b'3.0', b'4.0', b'5.0']`` consists of text strings (indicated by the `b` prefix) representing the floating-point numbers 1.0, 2.0, 3.0, 4.0, and 5.0.\n",
        "\n",
        "The dtype=`'|S32'` part of the output specifies the data type of the elements in the resulting array. In this case, it's a string `(|S)` with a maximum length of 32 characters. This means that each string element in the array can hold up to 32 characters.\n",
        "\n",
        "\n",
        "If casting were to fail for some reason (like a string that cannot be converted to float64), a `TypeError` will be raised"
      ],
      "metadata": {
        "id": "x1nL2Cqr38Sd"
      }
    },
    {
      "cell_type": "code",
      "source": [
        "# Create an integer NumPy array with values from 0 to 9.\n",
        "int_array = np.arange(10)\n",
        "\n",
        "# Define a NumPy array 'calibers' with specific floating-point values and a dtype of float64.\n",
        "calibers = np.array([.22, .270, .555, .380, .44, .55], dtype=np.float64)\n",
        "\n",
        "# Convert the 'int_array' to have the same data type as 'calibers' and store it as 'calibrated_int_array'.\n",
        "calibrated_int_array = int_array.astype(calibers.dtype)\n",
        "calibrated_int_array"
      ],
      "metadata": {
        "colab": {
          "base_uri": "https://localhost:8080/"
        },
        "id": "BbmQRmiE4-7Y",
        "outputId": "7201d69b-6f79-43b1-a73b-c5d2b65a798b"
      },
      "execution_count": null,
      "outputs": [
        {
          "output_type": "execute_result",
          "data": {
            "text/plain": [
              "array([0., 1., 2., 3., 4., 5., 6., 7., 8., 9.])"
            ]
          },
          "metadata": {},
          "execution_count": 19
        }
      ]
    },
    {
      "cell_type": "markdown",
      "source": [
        "Calling `astype` always creates a new array (a copy of the data), even if\n",
        "the new dtype is the same as the old dtype."
      ],
      "metadata": {
        "id": "6m1nT9-Z5lVg"
      }
    },
    {
      "cell_type": "markdown",
      "source": [
        "### Operation between Arrays and Scalars\n",
        "\n",
        "Arrays are important because they enable us to express batch operations on data without writing any `for` loops. This is usually called *vectorization*. Any arithmetic operations between equal-size arrays applies the operation elementwise."
      ],
      "metadata": {
        "id": "ZfYqVay96Qen"
      }
    },
    {
      "cell_type": "code",
      "source": [
        "arr = np.array([[1., 2., 3.], [4., 5., 6.]])\n",
        "arr"
      ],
      "metadata": {
        "colab": {
          "base_uri": "https://localhost:8080/"
        },
        "id": "KWcynJyu90La",
        "outputId": "7ecb6d32-9fdf-4f07-e481-94a29e6f6bed"
      },
      "execution_count": null,
      "outputs": [
        {
          "output_type": "execute_result",
          "data": {
            "text/plain": [
              "array([[1., 2., 3.],\n",
              "       [4., 5., 6.]])"
            ]
          },
          "metadata": {},
          "execution_count": 20
        }
      ]
    },
    {
      "cell_type": "code",
      "source": [
        "arr * arr"
      ],
      "metadata": {
        "colab": {
          "base_uri": "https://localhost:8080/"
        },
        "id": "vFILCQJt-zSN",
        "outputId": "a4472200-01e3-4c89-c92b-674ebd75bfee"
      },
      "execution_count": null,
      "outputs": [
        {
          "output_type": "execute_result",
          "data": {
            "text/plain": [
              "array([[ 1.,  4.,  9.],\n",
              "       [16., 25., 36.]])"
            ]
          },
          "metadata": {},
          "execution_count": 21
        }
      ]
    },
    {
      "cell_type": "code",
      "source": [
        "arr-arr"
      ],
      "metadata": {
        "colab": {
          "base_uri": "https://localhost:8080/"
        },
        "id": "K-V1T6Ll-7Nw",
        "outputId": "c8764e63-8a1e-4877-efcd-11594ff612b0"
      },
      "execution_count": null,
      "outputs": [
        {
          "output_type": "execute_result",
          "data": {
            "text/plain": [
              "array([[0., 0., 0.],\n",
              "       [0., 0., 0.]])"
            ]
          },
          "metadata": {},
          "execution_count": 22
        }
      ]
    },
    {
      "cell_type": "code",
      "source": [
        "1/arr"
      ],
      "metadata": {
        "colab": {
          "base_uri": "https://localhost:8080/"
        },
        "id": "L1Atyeud-9eP",
        "outputId": "ca75660e-8176-4ea2-d57e-b8a3df632e91"
      },
      "execution_count": null,
      "outputs": [
        {
          "output_type": "execute_result",
          "data": {
            "text/plain": [
              "array([[1.        , 0.5       , 0.33333333],\n",
              "       [0.25      , 0.2       , 0.16666667]])"
            ]
          },
          "metadata": {},
          "execution_count": 23
        }
      ]
    },
    {
      "cell_type": "code",
      "source": [
        "arr**0.5"
      ],
      "metadata": {
        "colab": {
          "base_uri": "https://localhost:8080/"
        },
        "id": "LDeK6Rra_Cbc",
        "outputId": "f69e6f0e-ba46-4b60-c64f-13e6b9295f6a"
      },
      "execution_count": null,
      "outputs": [
        {
          "output_type": "execute_result",
          "data": {
            "text/plain": [
              "array([[1.        , 1.41421356, 1.73205081],\n",
              "       [2.        , 2.23606798, 2.44948974]])"
            ]
          },
          "metadata": {},
          "execution_count": 24
        }
      ]
    },
    {
      "cell_type": "markdown",
      "source": [
        "## Basic Indexing and Slicing\n",
        "\n",
        "NumPy array indexing is a rich topic, as there are many ways you may want to select a subset of your data or individual elements. One-dimension arrays are simple; on the surface they act similar to Python list.\n",
        "\n",
        "\n"
      ],
      "metadata": {
        "id": "1PYcIsVD_IG7"
      }
    },
    {
      "cell_type": "code",
      "source": [
        "arr = np.arange(10)\n",
        "arr"
      ],
      "metadata": {
        "colab": {
          "base_uri": "https://localhost:8080/"
        },
        "id": "GRMAloI-_u-Q",
        "outputId": "6883710f-c98f-4120-81d7-6ebc5d1f4aae"
      },
      "execution_count": null,
      "outputs": [
        {
          "output_type": "execute_result",
          "data": {
            "text/plain": [
              "array([0, 1, 2, 3, 4, 5, 6, 7, 8, 9])"
            ]
          },
          "metadata": {},
          "execution_count": 25
        }
      ]
    },
    {
      "cell_type": "code",
      "source": [
        "# Get the element as index 5\n",
        "arr[5]"
      ],
      "metadata": {
        "colab": {
          "base_uri": "https://localhost:8080/"
        },
        "id": "Uw6KAN6PAWQs",
        "outputId": "e9603834-f450-4339-e9ca-3121fe0128db"
      },
      "execution_count": null,
      "outputs": [
        {
          "output_type": "execute_result",
          "data": {
            "text/plain": [
              "5"
            ]
          },
          "metadata": {},
          "execution_count": 26
        }
      ]
    },
    {
      "cell_type": "code",
      "source": [
        "# get the elements from index 5 to 8\n",
        "arr[5:8]"
      ],
      "metadata": {
        "colab": {
          "base_uri": "https://localhost:8080/"
        },
        "id": "NvovqMLIAYPc",
        "outputId": "28c99d83-84e3-4e42-c54f-9daafd66d909"
      },
      "execution_count": null,
      "outputs": [
        {
          "output_type": "execute_result",
          "data": {
            "text/plain": [
              "array([5, 6, 7])"
            ]
          },
          "metadata": {},
          "execution_count": 27
        }
      ]
    },
    {
      "cell_type": "code",
      "source": [
        "# Assign value to index 5 to 8\n",
        "arr[5:8] = 12"
      ],
      "metadata": {
        "id": "Qxumal8YAnb0"
      },
      "execution_count": null,
      "outputs": []
    },
    {
      "cell_type": "code",
      "source": [
        "arr"
      ],
      "metadata": {
        "colab": {
          "base_uri": "https://localhost:8080/"
        },
        "id": "lYwS1b1AAweh",
        "outputId": "bd4af983-bb28-4a33-9cd3-e018868c3941"
      },
      "execution_count": null,
      "outputs": [
        {
          "output_type": "execute_result",
          "data": {
            "text/plain": [
              "array([ 0,  1,  2,  3,  4, 12, 12, 12,  8,  9])"
            ]
          },
          "metadata": {},
          "execution_count": 29
        }
      ]
    },
    {
      "cell_type": "markdown",
      "source": [
        "Important first distinction from lists is that array slices are *view* in the original array. This means that the data is not copied, and any modifications to the view will be reflected in the source array"
      ],
      "metadata": {
        "id": "dNAlPeJ0Ay1X"
      }
    },
    {
      "cell_type": "code",
      "source": [
        "arr_slice = arr[5:8]\n",
        "arr_slice[1] = 12345\n",
        "arr"
      ],
      "metadata": {
        "colab": {
          "base_uri": "https://localhost:8080/"
        },
        "id": "tawI90BNCviH",
        "outputId": "b06be18d-5906-4fc9-f3af-58e1966c38ff"
      },
      "execution_count": null,
      "outputs": [
        {
          "output_type": "execute_result",
          "data": {
            "text/plain": [
              "array([    0,     1,     2,     3,     4,    12, 12345,    12,     8,\n",
              "           9])"
            ]
          },
          "metadata": {},
          "execution_count": 30
        }
      ]
    },
    {
      "cell_type": "code",
      "source": [
        "arr_slice[:] = 64\n",
        "arr"
      ],
      "metadata": {
        "colab": {
          "base_uri": "https://localhost:8080/"
        },
        "id": "0uzoFC-fETfk",
        "outputId": "d33c422c-f5a0-4e67-e261-aad8cc37437a"
      },
      "execution_count": null,
      "outputs": [
        {
          "output_type": "execute_result",
          "data": {
            "text/plain": [
              "array([ 0,  1,  2,  3,  4, 64, 64, 64,  8,  9])"
            ]
          },
          "metadata": {},
          "execution_count": 31
        }
      ]
    },
    {
      "cell_type": "markdown",
      "source": [
        "If you want a copy of a slice of an ndarray instead of a view, you will need to explicitly copy the array; for example `arr[5:8].copy()`."
      ],
      "metadata": {
        "id": "IlfAg6ZFEbSN"
      }
    },
    {
      "cell_type": "markdown",
      "source": [
        "With a higher dimensional arrays, you have many more options. In a 2-dimensional array,  the element at each index are no longer scalars but rather one-dimensional arrays"
      ],
      "metadata": {
        "id": "8iMxlg-IH5Sc"
      }
    },
    {
      "cell_type": "code",
      "source": [
        "arr2d = np.array([[1, 2, 3], [4, 5, 6], [7, 8, 9]])\n",
        "arr2d[2]"
      ],
      "metadata": {
        "colab": {
          "base_uri": "https://localhost:8080/"
        },
        "id": "jisRRkuNIeps",
        "outputId": "892bfdb7-f733-4bc7-a21e-74af3923c779"
      },
      "execution_count": null,
      "outputs": [
        {
          "output_type": "execute_result",
          "data": {
            "text/plain": [
              "array([7, 8, 9])"
            ]
          },
          "metadata": {},
          "execution_count": 32
        }
      ]
    },
    {
      "cell_type": "markdown",
      "source": [
        "Thus an individual elements can be accessed recursively. But that is a bit too much work, so you can pass comma-seperated list of indices to select individual elements"
      ],
      "metadata": {
        "id": "brVNY2IyIrkf"
      }
    },
    {
      "cell_type": "code",
      "source": [
        "arr2d[0][2]"
      ],
      "metadata": {
        "colab": {
          "base_uri": "https://localhost:8080/"
        },
        "id": "7Px8nFuJJGke",
        "outputId": "37af7e4e-4862-460b-9b0b-086cab8c1b42"
      },
      "execution_count": null,
      "outputs": [
        {
          "output_type": "execute_result",
          "data": {
            "text/plain": [
              "3"
            ]
          },
          "metadata": {},
          "execution_count": 33
        }
      ]
    },
    {
      "cell_type": "code",
      "source": [
        "arr2d[0,2]"
      ],
      "metadata": {
        "colab": {
          "base_uri": "https://localhost:8080/"
        },
        "id": "ZdJongBsJL9H",
        "outputId": "0ee32897-5240-478c-de67-190f1227155d"
      },
      "execution_count": null,
      "outputs": [
        {
          "output_type": "execute_result",
          "data": {
            "text/plain": [
              "3"
            ]
          },
          "metadata": {},
          "execution_count": 34
        }
      ]
    },
    {
      "cell_type": "code",
      "source": [
        "arr3d = np.array([[[1, 2, 3], [4, 5, 6]], [[7, 8, 9], [10, 11, 12]]])\n",
        "arr3d"
      ],
      "metadata": {
        "colab": {
          "base_uri": "https://localhost:8080/"
        },
        "id": "9aXSGR6kJOyk",
        "outputId": "c9a257d8-5e9d-4f84-cc21-1d53e1b8ff75"
      },
      "execution_count": null,
      "outputs": [
        {
          "output_type": "execute_result",
          "data": {
            "text/plain": [
              "array([[[ 1,  2,  3],\n",
              "        [ 4,  5,  6]],\n",
              "\n",
              "       [[ 7,  8,  9],\n",
              "        [10, 11, 12]]])"
            ]
          },
          "metadata": {},
          "execution_count": 35
        }
      ]
    },
    {
      "cell_type": "markdown",
      "source": [
        "Both scalar values and arrays can be assigned to arr3d[0]:"
      ],
      "metadata": {
        "id": "K_jU2g0YJvjD"
      }
    },
    {
      "cell_type": "code",
      "source": [
        "old_values = arr3d[0].copy()\n",
        "arr3d[0] = 42\n",
        "arr3d"
      ],
      "metadata": {
        "colab": {
          "base_uri": "https://localhost:8080/"
        },
        "id": "gIzWQbeRKJSz",
        "outputId": "53c77227-5380-401f-d84c-b7b82e091833"
      },
      "execution_count": null,
      "outputs": [
        {
          "output_type": "execute_result",
          "data": {
            "text/plain": [
              "array([[[42, 42, 42],\n",
              "        [42, 42, 42]],\n",
              "\n",
              "       [[ 7,  8,  9],\n",
              "        [10, 11, 12]]])"
            ]
          },
          "metadata": {},
          "execution_count": 36
        }
      ]
    },
    {
      "cell_type": "code",
      "source": [
        "arr3d[0] = old_values\n",
        "arr3d"
      ],
      "metadata": {
        "colab": {
          "base_uri": "https://localhost:8080/"
        },
        "id": "ltVUzJkxKWtg",
        "outputId": "bcb842f4-7ad7-48ac-d858-6933dab12115"
      },
      "execution_count": null,
      "outputs": [
        {
          "output_type": "execute_result",
          "data": {
            "text/plain": [
              "array([[[ 1,  2,  3],\n",
              "        [ 4,  5,  6]],\n",
              "\n",
              "       [[ 7,  8,  9],\n",
              "        [10, 11, 12]]])"
            ]
          },
          "metadata": {},
          "execution_count": 37
        }
      ]
    },
    {
      "cell_type": "markdown",
      "source": [
        "#####Indexing with slices\n",
        "\n",
        "mdarrays can be sliced using the similar syntax like that of a list"
      ],
      "metadata": {
        "id": "NSHQ2Si1KmZj"
      }
    },
    {
      "cell_type": "code",
      "source": [
        "arr[1:6]\n"
      ],
      "metadata": {
        "colab": {
          "base_uri": "https://localhost:8080/"
        },
        "id": "rkvY8ewwb38K",
        "outputId": "edd4511e-7493-4b98-e872-bf290fb6d87d"
      },
      "execution_count": null,
      "outputs": [
        {
          "output_type": "execute_result",
          "data": {
            "text/plain": [
              "array([ 1,  2,  3,  4, 64])"
            ]
          },
          "metadata": {},
          "execution_count": 38
        }
      ]
    },
    {
      "cell_type": "markdown",
      "source": [
        "Higher dimensional object give you more options as you can slice one or more axes and also mix integers."
      ],
      "metadata": {
        "id": "c6gCM0AZcgQZ"
      }
    },
    {
      "cell_type": "code",
      "source": [
        "arr2d"
      ],
      "metadata": {
        "colab": {
          "base_uri": "https://localhost:8080/"
        },
        "id": "BU5ApzXDc4k6",
        "outputId": "cf494ed0-9dad-477d-baa7-e505f873e91f"
      },
      "execution_count": null,
      "outputs": [
        {
          "output_type": "execute_result",
          "data": {
            "text/plain": [
              "array([[1, 2, 3],\n",
              "       [4, 5, 6],\n",
              "       [7, 8, 9]])"
            ]
          },
          "metadata": {},
          "execution_count": 39
        }
      ]
    },
    {
      "cell_type": "code",
      "source": [
        "arr2d[:2]"
      ],
      "metadata": {
        "colab": {
          "base_uri": "https://localhost:8080/"
        },
        "id": "_8HwQLEGc6Y0",
        "outputId": "6ba5dfaf-77eb-4844-dfd2-417d01a37442"
      },
      "execution_count": null,
      "outputs": [
        {
          "output_type": "execute_result",
          "data": {
            "text/plain": [
              "array([[1, 2, 3],\n",
              "       [4, 5, 6]])"
            ]
          },
          "metadata": {},
          "execution_count": 40
        }
      ]
    },
    {
      "cell_type": "code",
      "source": [
        "# Extract a portion of a 2D array 'arr2d'.\n",
        "# This selects the first two rows (up to row index 2, exclusive) and all columns starting from the second column (column index 1 onwards).\n",
        "arr2d[:2, 1:]\n"
      ],
      "metadata": {
        "colab": {
          "base_uri": "https://localhost:8080/"
        },
        "id": "FeNeYKcSc-ps",
        "outputId": "0c44880d-5985-44c9-c64f-1f519fb8c907"
      },
      "execution_count": null,
      "outputs": [
        {
          "output_type": "execute_result",
          "data": {
            "text/plain": [
              "array([[2, 3],\n",
              "       [5, 6]])"
            ]
          },
          "metadata": {},
          "execution_count": 41
        }
      ]
    },
    {
      "cell_type": "code",
      "source": [
        "arr2d[1, :2]"
      ],
      "metadata": {
        "colab": {
          "base_uri": "https://localhost:8080/"
        },
        "id": "D0N9kqGgdPdq",
        "outputId": "d0c93295-0192-479a-da5b-9b816add59f5"
      },
      "execution_count": null,
      "outputs": [
        {
          "output_type": "execute_result",
          "data": {
            "text/plain": [
              "array([4, 5])"
            ]
          },
          "metadata": {},
          "execution_count": 42
        }
      ]
    },
    {
      "cell_type": "code",
      "source": [
        "arr2d[2, :1]"
      ],
      "metadata": {
        "colab": {
          "base_uri": "https://localhost:8080/"
        },
        "id": "q1YVbEdydoWB",
        "outputId": "9d103db4-19df-41fe-a2d1-c71a154cb94f"
      },
      "execution_count": null,
      "outputs": [
        {
          "output_type": "execute_result",
          "data": {
            "text/plain": [
              "array([7])"
            ]
          },
          "metadata": {},
          "execution_count": 43
        }
      ]
    },
    {
      "cell_type": "code",
      "source": [
        "arr2d[:, :1]"
      ],
      "metadata": {
        "colab": {
          "base_uri": "https://localhost:8080/"
        },
        "id": "kAJRiYzNdv1I",
        "outputId": "66f3a191-ebf7-4ecf-ff64-3698da34eb04"
      },
      "execution_count": null,
      "outputs": [
        {
          "output_type": "execute_result",
          "data": {
            "text/plain": [
              "array([[1],\n",
              "       [4],\n",
              "       [7]])"
            ]
          },
          "metadata": {},
          "execution_count": 44
        }
      ]
    },
    {
      "cell_type": "markdown",
      "source": [
        "![image.png](data:image/png;base64,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)"
      ],
      "metadata": {
        "id": "Qeb2btb_gdiz"
      }
    },
    {
      "cell_type": "markdown",
      "source": [
        "####Boolean Indexing"
      ],
      "metadata": {
        "id": "OcEI4jrhd0HM"
      }
    },
    {
      "cell_type": "code",
      "source": [
        "# Lets consider an array of names with dublicates\n",
        "names = np.array(['Bob', 'Joe', 'Will', 'Bob', 'Will', 'Joe', 'Joe'])"
      ],
      "metadata": {
        "id": "THXBJds4eHA2"
      },
      "execution_count": null,
      "outputs": []
    },
    {
      "cell_type": "code",
      "source": [
        "# use `randn` function to generate some random normally distributed data\n",
        "data = np.random.randn(7, 4)"
      ],
      "metadata": {
        "id": "4CnJsQlzerwz"
      },
      "execution_count": null,
      "outputs": []
    },
    {
      "cell_type": "code",
      "source": [
        "names"
      ],
      "metadata": {
        "colab": {
          "base_uri": "https://localhost:8080/"
        },
        "id": "K2Toz-oce8SV",
        "outputId": "fc3ad2b1-c713-419b-9d7a-7cdfaec1e947"
      },
      "execution_count": null,
      "outputs": [
        {
          "output_type": "execute_result",
          "data": {
            "text/plain": [
              "array(['Bob', 'Joe', 'Will', 'Bob', 'Will', 'Joe', 'Joe'], dtype='<U4')"
            ]
          },
          "metadata": {},
          "execution_count": 47
        }
      ]
    },
    {
      "cell_type": "code",
      "source": [
        "data"
      ],
      "metadata": {
        "colab": {
          "base_uri": "https://localhost:8080/"
        },
        "id": "6X13mBx5f5gi",
        "outputId": "3fbd759e-54cc-4312-bae9-3de79816774b"
      },
      "execution_count": null,
      "outputs": [
        {
          "output_type": "execute_result",
          "data": {
            "text/plain": [
              "array([[-1.58003792,  0.50388607,  2.95460608,  0.1583169 ],\n",
              "       [ 0.47417044, -0.66512755, -0.45362024,  0.92750655],\n",
              "       [ 0.79710544,  0.47475419,  1.44466888, -0.90896819],\n",
              "       [ 1.34748152, -1.29614189, -0.07331394, -2.35781587],\n",
              "       [-0.75145567, -1.6826351 , -0.69178738,  1.54416015],\n",
              "       [ 0.57791775,  0.73471593,  1.18053802,  0.88704611],\n",
              "       [ 1.93955662, -0.39976206,  2.13619713,  0.78426661]])"
            ]
          },
          "metadata": {},
          "execution_count": 48
        }
      ]
    },
    {
      "cell_type": "markdown",
      "source": [
        "If you have a array of names that matches the rows in your data array, and you want to select all the rows where the name is 'Bob', you can do that easily. When you compare the array of names with 'Bob', you get a special array of True and False values. Each True or False corresponds to whether a name is 'Bob' or not for each row. This is really handy for selecting specific rows that match your criteria.\n",
        "\n",
        "Boolean indexing is a powerful way of filtering data given a certain criteria."
      ],
      "metadata": {
        "id": "ViJ4v2kWgAuu"
      }
    },
    {
      "cell_type": "code",
      "source": [
        "names == 'Bob'"
      ],
      "metadata": {
        "colab": {
          "base_uri": "https://localhost:8080/"
        },
        "id": "wTHM3ApvhoD8",
        "outputId": "390e1345-4da0-47df-9727-7e5ecda4c68e"
      },
      "execution_count": null,
      "outputs": [
        {
          "output_type": "execute_result",
          "data": {
            "text/plain": [
              "array([ True, False, False,  True, False, False, False])"
            ]
          },
          "metadata": {},
          "execution_count": 49
        }
      ]
    },
    {
      "cell_type": "markdown",
      "source": [
        "This boolean array can be passed when indexing the array"
      ],
      "metadata": {
        "id": "FSanvV_ihseF"
      }
    },
    {
      "cell_type": "code",
      "source": [
        "data[names == 'Bob']"
      ],
      "metadata": {
        "colab": {
          "base_uri": "https://localhost:8080/"
        },
        "id": "A6H7GrBUiXY9",
        "outputId": "bbc3f6f9-2cb2-4073-cece-b14b3b0635fd"
      },
      "execution_count": null,
      "outputs": [
        {
          "output_type": "execute_result",
          "data": {
            "text/plain": [
              "array([[-1.58003792,  0.50388607,  2.95460608,  0.1583169 ],\n",
              "       [ 1.34748152, -1.29614189, -0.07331394, -2.35781587]])"
            ]
          },
          "metadata": {},
          "execution_count": 50
        }
      ]
    },
    {
      "cell_type": "code",
      "source": [
        "data[names == 'Bob', 2:]"
      ],
      "metadata": {
        "colab": {
          "base_uri": "https://localhost:8080/"
        },
        "id": "fHaiHOY2ickd",
        "outputId": "9dc9dca6-76ff-4ae5-b29c-198cd1712a13"
      },
      "execution_count": null,
      "outputs": [
        {
          "output_type": "execute_result",
          "data": {
            "text/plain": [
              "array([[ 2.95460608,  0.1583169 ],\n",
              "       [-0.07331394, -2.35781587]])"
            ]
          },
          "metadata": {},
          "execution_count": 51
        }
      ]
    },
    {
      "cell_type": "code",
      "source": [
        "data[names == 'Bob', 3]"
      ],
      "metadata": {
        "colab": {
          "base_uri": "https://localhost:8080/"
        },
        "id": "PKMV4aUB5ATt",
        "outputId": "e613109d-e979-4249-ec36-b4083d4668bc"
      },
      "execution_count": null,
      "outputs": [
        {
          "output_type": "execute_result",
          "data": {
            "text/plain": [
              "array([ 0.1583169 , -2.35781587])"
            ]
          },
          "metadata": {},
          "execution_count": 52
        }
      ]
    },
    {
      "cell_type": "markdown",
      "source": [
        " select everything but 'Bob', you can either use != or negate the condition using  ~"
      ],
      "metadata": {
        "id": "kc2azMkl5IZG"
      }
    },
    {
      "cell_type": "code",
      "source": [
        "names != 'Bob'"
      ],
      "metadata": {
        "colab": {
          "base_uri": "https://localhost:8080/"
        },
        "id": "oj4EMdP45bFR",
        "outputId": "f69fdf70-df2d-401a-9aaf-16eb8749511f"
      },
      "execution_count": null,
      "outputs": [
        {
          "output_type": "execute_result",
          "data": {
            "text/plain": [
              "array([False,  True,  True, False,  True,  True,  True])"
            ]
          },
          "metadata": {},
          "execution_count": 53
        }
      ]
    },
    {
      "cell_type": "code",
      "source": [
        "data[~(names == 'Bob')]"
      ],
      "metadata": {
        "colab": {
          "base_uri": "https://localhost:8080/"
        },
        "id": "kBJaz5yR5eMN",
        "outputId": "d06d44b3-f6bf-426f-840d-66c91840b26f"
      },
      "execution_count": null,
      "outputs": [
        {
          "output_type": "execute_result",
          "data": {
            "text/plain": [
              "array([[ 0.47417044, -0.66512755, -0.45362024,  0.92750655],\n",
              "       [ 0.79710544,  0.47475419,  1.44466888, -0.90896819],\n",
              "       [-0.75145567, -1.6826351 , -0.69178738,  1.54416015],\n",
              "       [ 0.57791775,  0.73471593,  1.18053802,  0.88704611],\n",
              "       [ 1.93955662, -0.39976206,  2.13619713,  0.78426661]])"
            ]
          },
          "metadata": {},
          "execution_count": 54
        }
      ]
    },
    {
      "cell_type": "markdown",
      "source": [
        "Selecting two of the 3 names to combine multiple boolean conditions, use boolean arithmetic operators like &(and ) and | (or)"
      ],
      "metadata": {
        "id": "7wpea6RA5hwE"
      }
    },
    {
      "cell_type": "code",
      "source": [
        "mask  = (names == 'Bob') | (names == 'Will')\n",
        "mask"
      ],
      "metadata": {
        "colab": {
          "base_uri": "https://localhost:8080/"
        },
        "id": "9bMu9PNF6m4b",
        "outputId": "3cc83703-2128-4c07-ed64-ff4c82bf0a2e"
      },
      "execution_count": null,
      "outputs": [
        {
          "output_type": "execute_result",
          "data": {
            "text/plain": [
              "array([ True, False,  True,  True,  True, False, False])"
            ]
          },
          "metadata": {},
          "execution_count": 55
        }
      ]
    },
    {
      "cell_type": "code",
      "source": [
        "data[mask]"
      ],
      "metadata": {
        "colab": {
          "base_uri": "https://localhost:8080/"
        },
        "id": "v96bBevV8lhA",
        "outputId": "b70ed570-cdf7-4f4d-b1fb-15ef4e307ac8"
      },
      "execution_count": null,
      "outputs": [
        {
          "output_type": "execute_result",
          "data": {
            "text/plain": [
              "array([[-1.58003792,  0.50388607,  2.95460608,  0.1583169 ],\n",
              "       [ 0.79710544,  0.47475419,  1.44466888, -0.90896819],\n",
              "       [ 1.34748152, -1.29614189, -0.07331394, -2.35781587],\n",
              "       [-0.75145567, -1.6826351 , -0.69178738,  1.54416015]])"
            ]
          },
          "metadata": {},
          "execution_count": 56
        }
      ]
    },
    {
      "cell_type": "markdown",
      "source": [
        "**Note: The python keywords 'and' and  'or' do not work with boolean arrays.**"
      ],
      "metadata": {
        "id": "tiztsON28w_K"
      }
    },
    {
      "cell_type": "markdown",
      "source": [
        "Setting values with boolean arrays works in common-sence way. To set all of the negative values in data to 0 we need only do"
      ],
      "metadata": {
        "id": "HcKwbnR-9E7x"
      }
    },
    {
      "cell_type": "code",
      "source": [
        "data[data < 0] = 0\n",
        "data"
      ],
      "metadata": {
        "colab": {
          "base_uri": "https://localhost:8080/"
        },
        "id": "MZ4gp_AD9aA3",
        "outputId": "ac07d6e3-9bcd-4153-fcd1-3f9eb8b14992"
      },
      "execution_count": null,
      "outputs": [
        {
          "output_type": "execute_result",
          "data": {
            "text/plain": [
              "array([[0.        , 0.50388607, 2.95460608, 0.1583169 ],\n",
              "       [0.47417044, 0.        , 0.        , 0.92750655],\n",
              "       [0.79710544, 0.47475419, 1.44466888, 0.        ],\n",
              "       [1.34748152, 0.        , 0.        , 0.        ],\n",
              "       [0.        , 0.        , 0.        , 1.54416015],\n",
              "       [0.57791775, 0.73471593, 1.18053802, 0.88704611],\n",
              "       [1.93955662, 0.        , 2.13619713, 0.78426661]])"
            ]
          },
          "metadata": {},
          "execution_count": 57
        }
      ]
    },
    {
      "cell_type": "markdown",
      "source": [
        "Setting whole rows or columns using a 1D boolean array is also easy:\n",
        "\n",
        "> This technique is useful when you want to make bulk changes to your data based on some condition. In this case, it's setting entire rows to a specific value, but you can do similar operations with columns or even more complex conditions. It's a powerful way to manipulate data efficiently in Python.\n",
        "\n"
      ],
      "metadata": {
        "id": "ENANYP2_9dXl"
      }
    },
    {
      "cell_type": "code",
      "source": [
        "data[names != \"Joe\"] = 7\n",
        "data"
      ],
      "metadata": {
        "colab": {
          "base_uri": "https://localhost:8080/"
        },
        "id": "MzSRVtRn-G07",
        "outputId": "64e5b565-a8b0-4865-f025-534c416414ee"
      },
      "execution_count": null,
      "outputs": [
        {
          "output_type": "execute_result",
          "data": {
            "text/plain": [
              "array([[7.        , 7.        , 7.        , 7.        ],\n",
              "       [0.47417044, 0.        , 0.        , 0.92750655],\n",
              "       [7.        , 7.        , 7.        , 7.        ],\n",
              "       [7.        , 7.        , 7.        , 7.        ],\n",
              "       [7.        , 7.        , 7.        , 7.        ],\n",
              "       [0.57791775, 0.73471593, 1.18053802, 0.88704611],\n",
              "       [1.93955662, 0.        , 2.13619713, 0.78426661]])"
            ]
          },
          "metadata": {},
          "execution_count": 58
        }
      ]
    },
    {
      "cell_type": "markdown",
      "source": [
        "#### Fancy Indexing"
      ],
      "metadata": {
        "id": "_ULN0vLD-Rv2"
      }
    },
    {
      "cell_type": "markdown",
      "source": [
        "*Fancy indexing* is a term adopted by NumPy to describe indexing using interger arrays."
      ],
      "metadata": {
        "id": "qvnM23PanAuE"
      }
    },
    {
      "cell_type": "code",
      "source": [
        "# Suppose we had 8 x 4 array\n",
        "arr = np.empty((8,4))\n",
        "\n",
        "for i in range(8):\n",
        "  arr[i] = i\n",
        "\n",
        "arr"
      ],
      "metadata": {
        "colab": {
          "base_uri": "https://localhost:8080/"
        },
        "id": "l7qQkh8snPO2",
        "outputId": "474ac6b0-7d60-4fee-a698-3b5b4eda99cc"
      },
      "execution_count": null,
      "outputs": [
        {
          "output_type": "execute_result",
          "data": {
            "text/plain": [
              "array([[0., 0., 0., 0.],\n",
              "       [1., 1., 1., 1.],\n",
              "       [2., 2., 2., 2.],\n",
              "       [3., 3., 3., 3.],\n",
              "       [4., 4., 4., 4.],\n",
              "       [5., 5., 5., 5.],\n",
              "       [6., 6., 6., 6.],\n",
              "       [7., 7., 7., 7.]])"
            ]
          },
          "metadata": {},
          "execution_count": 59
        }
      ]
    },
    {
      "cell_type": "markdown",
      "source": [
        "To select out a subset of a certai order, you can simply pass a list or ndarray of integers specifying the desired order"
      ],
      "metadata": {
        "id": "JVciPqRlniaB"
      }
    },
    {
      "cell_type": "code",
      "source": [
        "arr[[4, 3, 0, 6]]"
      ],
      "metadata": {
        "colab": {
          "base_uri": "https://localhost:8080/"
        },
        "id": "6d7f9NE9n7Q6",
        "outputId": "fbc8aa55-89ee-4feb-b591-981c04bf315b"
      },
      "execution_count": null,
      "outputs": [
        {
          "output_type": "execute_result",
          "data": {
            "text/plain": [
              "array([[4., 4., 4., 4.],\n",
              "       [3., 3., 3., 3.],\n",
              "       [0., 0., 0., 0.],\n",
              "       [6., 6., 6., 6.]])"
            ]
          },
          "metadata": {},
          "execution_count": 60
        }
      ]
    },
    {
      "cell_type": "markdown",
      "source": [
        "Using negative indices select rows from the end"
      ],
      "metadata": {
        "id": "Z5UPr1ESn_L-"
      }
    },
    {
      "cell_type": "code",
      "source": [
        "arr[[-3, -5, -7]]"
      ],
      "metadata": {
        "colab": {
          "base_uri": "https://localhost:8080/"
        },
        "id": "c6TnZm4SoamO",
        "outputId": "3f7609dc-b825-4731-87ad-2de71d19ef62"
      },
      "execution_count": null,
      "outputs": [
        {
          "output_type": "execute_result",
          "data": {
            "text/plain": [
              "array([[5., 5., 5., 5.],\n",
              "       [3., 3., 3., 3.],\n",
              "       [1., 1., 1., 1.]])"
            ]
          },
          "metadata": {},
          "execution_count": 61
        }
      ]
    },
    {
      "cell_type": "markdown",
      "source": [
        "Passing multiple index arrays does something slightly different: it selects a 1D array of elements corresponding to each tuple of indices"
      ],
      "metadata": {
        "id": "CjzySin9oe6I"
      }
    },
    {
      "cell_type": "code",
      "source": [
        "arr = np.arange(32).reshape((8,4))\n",
        "arr"
      ],
      "metadata": {
        "colab": {
          "base_uri": "https://localhost:8080/"
        },
        "id": "gUsOteaVo19_",
        "outputId": "efbe86b1-c9e5-44bb-aa57-7cf894e66cc6"
      },
      "execution_count": null,
      "outputs": [
        {
          "output_type": "execute_result",
          "data": {
            "text/plain": [
              "array([[ 0,  1,  2,  3],\n",
              "       [ 4,  5,  6,  7],\n",
              "       [ 8,  9, 10, 11],\n",
              "       [12, 13, 14, 15],\n",
              "       [16, 17, 18, 19],\n",
              "       [20, 21, 22, 23],\n",
              "       [24, 25, 26, 27],\n",
              "       [28, 29, 30, 31]])"
            ]
          },
          "metadata": {},
          "execution_count": 62
        }
      ]
    },
    {
      "cell_type": "code",
      "source": [
        "# Select elements from a 2D array 'arr' using specific row and column indices.\n",
        "# This code chooses elements from row indices 1, 5, 7, and 2, and column indices 0, 3, 1, and 2.\n",
        "# arr[[row], [column]]\n",
        "result = arr[[1, 5, 7, 2], [0, 3, 1, 2]]\n",
        "result"
      ],
      "metadata": {
        "colab": {
          "base_uri": "https://localhost:8080/"
        },
        "id": "vgW_ZzQ0o_hy",
        "outputId": "dbb8a434-bad9-4a8f-d3b6-15069d691b97"
      },
      "execution_count": null,
      "outputs": [
        {
          "output_type": "execute_result",
          "data": {
            "text/plain": [
              "array([ 4, 23, 29, 10])"
            ]
          },
          "metadata": {},
          "execution_count": 63
        }
      ]
    },
    {
      "cell_type": "code",
      "source": [
        "# Select elements from a 2D array 'arr' by specifying both row and column indices.\n",
        "# This code first selects rows with indices 1, 5, 7, and 2, and then, for each of these rows,\n",
        "# it selects columns with indices 0, 3, 1, and 2.\n",
        "result = arr[[1, 5, 7, 2]][:, [0, 3, 1, 2]]\n",
        "result"
      ],
      "metadata": {
        "colab": {
          "base_uri": "https://localhost:8080/"
        },
        "id": "0cP95lwepKiA",
        "outputId": "89f1f21d-0285-4038-e888-82244d1539ca"
      },
      "execution_count": null,
      "outputs": [
        {
          "output_type": "execute_result",
          "data": {
            "text/plain": [
              "array([[ 4,  7,  5,  6],\n",
              "       [20, 23, 21, 22],\n",
              "       [28, 31, 29, 30],\n",
              "       [ 8, 11,  9, 10]])"
            ]
          },
          "metadata": {},
          "execution_count": 64
        }
      ]
    },
    {
      "cell_type": "markdown",
      "source": [
        "The two expressions `arr[[1, 5, 7, 2], [0, 3, 1, 2]]` and `arr[[1, 5, 7, 2]][:, [0, 3, 1, 2]]` produce different results.\n",
        "\n",
        "1. `arr[[1, 5, 7, 2], [0, 3, 1, 2]]` selects specific elements from the original array arr based on the pairs of row and column indices provided. It directly retrieves the elements at the specified intersections of rows and columns.\n",
        "\n",
        "2. `arr[[1, 5, 7, 2]][:, [0, 3, 1, 2]]` first selects specific rows `[1, 5, 7, 2]` from the original array and then, for each of these selected rows, it further selects columns `[0, 3, 1, 2]`. It performs two separate operations: row selection followed by column selection.\n",
        "\n",
        "Another way is to use the `np.ix_` function, which converts two 1D integer arrays to an indexer that selects the square region."
      ],
      "metadata": {
        "id": "vyOIm5Zoqkwp"
      }
    },
    {
      "cell_type": "code",
      "source": [
        "arr[np.ix_([1, 5, 7, 2], [0, 3, 1, 2])]"
      ],
      "metadata": {
        "colab": {
          "base_uri": "https://localhost:8080/"
        },
        "id": "0lXPVlkSr5_T",
        "outputId": "8bb5bc24-8f1e-4055-a9a9-b2053b8715a0"
      },
      "execution_count": null,
      "outputs": [
        {
          "output_type": "execute_result",
          "data": {
            "text/plain": [
              "array([[ 4,  7,  5,  6],\n",
              "       [20, 23, 21, 22],\n",
              "       [28, 31, 29, 30],\n",
              "       [ 8, 11,  9, 10]])"
            ]
          },
          "metadata": {},
          "execution_count": 65
        }
      ]
    },
    {
      "cell_type": "markdown",
      "source": [
        "####Transposing Arrays and Swapping Axes\n",
        "\n",
        "Transposing is a special form of reshaping which similarly returns a view on the inderlying data without copying anything.\n",
        "\n",
        "Transposing a matrix means flipping it along its diagonal, effectively swapping rows and columns.\n",
        "\n",
        "Transposing is essential in this code to make the matrix dimensions compatible for the dot product operation, which is often used in linear algebra and statistics to analyze relationships between data points or variables.\n",
        "\n",
        "Arrays have `transpose` method and also special `T` attribute"
      ],
      "metadata": {
        "id": "QoUzzgOTsj6j"
      }
    },
    {
      "cell_type": "code",
      "source": [
        "arr = np.arange(15).reshape((3, 5))\n",
        "arr"
      ],
      "metadata": {
        "colab": {
          "base_uri": "https://localhost:8080/"
        },
        "id": "hPpd1egAOAdQ",
        "outputId": "5c6bc1b4-d933-4cd5-fe73-38bf50ad7c49"
      },
      "execution_count": null,
      "outputs": [
        {
          "output_type": "execute_result",
          "data": {
            "text/plain": [
              "array([[ 0,  1,  2,  3,  4],\n",
              "       [ 5,  6,  7,  8,  9],\n",
              "       [10, 11, 12, 13, 14]])"
            ]
          },
          "metadata": {},
          "execution_count": 66
        }
      ]
    },
    {
      "cell_type": "code",
      "source": [
        "arr.T"
      ],
      "metadata": {
        "colab": {
          "base_uri": "https://localhost:8080/"
        },
        "id": "3i5F9EdtOJuR",
        "outputId": "c6d4e458-4767-42fd-ae21-469c09b4febc"
      },
      "execution_count": null,
      "outputs": [
        {
          "output_type": "execute_result",
          "data": {
            "text/plain": [
              "array([[ 0,  5, 10],\n",
              "       [ 1,  6, 11],\n",
              "       [ 2,  7, 12],\n",
              "       [ 3,  8, 13],\n",
              "       [ 4,  9, 14]])"
            ]
          },
          "metadata": {},
          "execution_count": 67
        }
      ]
    },
    {
      "cell_type": "markdown",
      "source": [
        "When doing matrix computations, you will do this very often, like for example computing the inner matrix product xTx using `np.dot`"
      ],
      "metadata": {
        "id": "B9WQZZpiOm0l"
      }
    },
    {
      "cell_type": "code",
      "source": [
        "arr = np.random.randn(6, 3)\n",
        "np.dot(arr.T, arr)\n"
      ],
      "metadata": {
        "colab": {
          "base_uri": "https://localhost:8080/"
        },
        "id": "IWjp_TYBPOkn",
        "outputId": "fd3e0a76-7f0c-44f6-a6f2-081625917246"
      },
      "execution_count": null,
      "outputs": [
        {
          "output_type": "execute_result",
          "data": {
            "text/plain": [
              "array([[ 6.79531671, -3.49042599, -0.35791357],\n",
              "       [-3.49042599,  8.42651826, -0.24800965],\n",
              "       [-0.35791357, -0.24800965,  6.70600707]])"
            ]
          },
          "metadata": {},
          "execution_count": 68
        }
      ]
    },
    {
      "cell_type": "markdown",
      "source": [
        "For a higher dimensional arrays, `transpose` will accept a tuple of axis numbers to permute the axes(for extra mind bending)"
      ],
      "metadata": {
        "id": "IFhIDFJ9PX5U"
      }
    },
    {
      "cell_type": "code",
      "source": [
        "arr = np.arange(16).reshape((2, 2, 4))\n",
        "arr"
      ],
      "metadata": {
        "colab": {
          "base_uri": "https://localhost:8080/"
        },
        "id": "pSOKbX7iQu1-",
        "outputId": "826a9085-a59e-488e-ab5c-4c534f11482b"
      },
      "execution_count": null,
      "outputs": [
        {
          "output_type": "execute_result",
          "data": {
            "text/plain": [
              "array([[[ 0,  1,  2,  3],\n",
              "        [ 4,  5,  6,  7]],\n",
              "\n",
              "       [[ 8,  9, 10, 11],\n",
              "        [12, 13, 14, 15]]])"
            ]
          },
          "metadata": {},
          "execution_count": 69
        }
      ]
    },
    {
      "cell_type": "code",
      "source": [
        "arr.transpose((1, 0, 2))"
      ],
      "metadata": {
        "colab": {
          "base_uri": "https://localhost:8080/"
        },
        "id": "mt3ZdMXyQ1ES",
        "outputId": "5f5ce0f0-7979-4d80-e525-eadf3738d51a"
      },
      "execution_count": null,
      "outputs": [
        {
          "output_type": "execute_result",
          "data": {
            "text/plain": [
              "array([[[ 0,  1,  2,  3],\n",
              "        [ 8,  9, 10, 11]],\n",
              "\n",
              "       [[ 4,  5,  6,  7],\n",
              "        [12, 13, 14, 15]]])"
            ]
          },
          "metadata": {},
          "execution_count": 70
        }
      ]
    },
    {
      "cell_type": "markdown",
      "source": [
        "from numpy.core.fromnumeric import swapaxes\n",
        "Simple transponsing with `.T` is just a special case of swapping axes. ndarray has the method `swapaxes` which takes a pair of axis numbers."
      ],
      "metadata": {
        "id": "y0Sxyv_DQ-0R"
      }
    },
    {
      "cell_type": "code",
      "source": [
        "arr"
      ],
      "metadata": {
        "colab": {
          "base_uri": "https://localhost:8080/"
        },
        "id": "ptL_qPL4RU7u",
        "outputId": "be9ee772-b21e-4338-a544-ea6ec652d282"
      },
      "execution_count": null,
      "outputs": [
        {
          "output_type": "execute_result",
          "data": {
            "text/plain": [
              "array([[[ 0,  1,  2,  3],\n",
              "        [ 4,  5,  6,  7]],\n",
              "\n",
              "       [[ 8,  9, 10, 11],\n",
              "        [12, 13, 14, 15]]])"
            ]
          },
          "metadata": {},
          "execution_count": 71
        }
      ]
    },
    {
      "cell_type": "code",
      "source": [
        "arr.swapaxes(1, 2)"
      ],
      "metadata": {
        "colab": {
          "base_uri": "https://localhost:8080/"
        },
        "id": "YlEeaB02RWyo",
        "outputId": "a7797640-434b-4e66-b2f6-2c07d32e07eb"
      },
      "execution_count": null,
      "outputs": [
        {
          "output_type": "execute_result",
          "data": {
            "text/plain": [
              "array([[[ 0,  4],\n",
              "        [ 1,  5],\n",
              "        [ 2,  6],\n",
              "        [ 3,  7]],\n",
              "\n",
              "       [[ 8, 12],\n",
              "        [ 9, 13],\n",
              "        [10, 14],\n",
              "        [11, 15]]])"
            ]
          },
          "metadata": {},
          "execution_count": 72
        }
      ]
    },
    {
      "cell_type": "markdown",
      "source": [
        "`swapaxes` similarly returns a view on the data without making a copy."
      ],
      "metadata": {
        "id": "SUWDYAVWRZlK"
      }
    },
    {
      "cell_type": "markdown",
      "source": [
        "###Universal Functions: Fast Element-wise Array Functions\n",
        "\n",
        "\n",
        "A universal function, or *ufunc*, is a function that performs elementwise operations on data in ndarrays.\n"
      ],
      "metadata": {
        "id": "AYDayxOlRkVx"
      }
    },
    {
      "cell_type": "code",
      "source": [
        "arr = np.arange(10)\n",
        "np.sqrt(arr)"
      ],
      "metadata": {
        "colab": {
          "base_uri": "https://localhost:8080/"
        },
        "id": "sOW2zxCOxyIo",
        "outputId": "d39cf925-a8a1-4c30-d770-e19ea7e48444"
      },
      "execution_count": null,
      "outputs": [
        {
          "output_type": "execute_result",
          "data": {
            "text/plain": [
              "array([0.        , 1.        , 1.41421356, 1.73205081, 2.        ,\n",
              "       2.23606798, 2.44948974, 2.64575131, 2.82842712, 3.        ])"
            ]
          },
          "metadata": {},
          "execution_count": 73
        }
      ]
    },
    {
      "cell_type": "code",
      "source": [
        "np.exp(arr)"
      ],
      "metadata": {
        "colab": {
          "base_uri": "https://localhost:8080/"
        },
        "id": "3pnHqIF2zoPf",
        "outputId": "db6b93a3-7b35-4b6a-94a4-c82856a635c1"
      },
      "execution_count": null,
      "outputs": [
        {
          "output_type": "execute_result",
          "data": {
            "text/plain": [
              "array([1.00000000e+00, 2.71828183e+00, 7.38905610e+00, 2.00855369e+01,\n",
              "       5.45981500e+01, 1.48413159e+02, 4.03428793e+02, 1.09663316e+03,\n",
              "       2.98095799e+03, 8.10308393e+03])"
            ]
          },
          "metadata": {},
          "execution_count": 74
        }
      ]
    },
    {
      "cell_type": "markdown",
      "source": [
        "These are referred to as unary ufunc. Others, such as `add` or `maximum`, take 2 arrays (thus, binary ufuncs) and return a single array as the results."
      ],
      "metadata": {
        "id": "EoUi1uK4ztl4"
      }
    },
    {
      "cell_type": "code",
      "source": [
        "x = np.random.randn(8)\n",
        "y = np.random.randn(8)\n",
        "\n",
        "x, y"
      ],
      "metadata": {
        "colab": {
          "base_uri": "https://localhost:8080/"
        },
        "id": "nskhtUKE0k9b",
        "outputId": "f14c0264-ce8c-42f4-ac02-518b2e3735f1"
      },
      "execution_count": null,
      "outputs": [
        {
          "output_type": "execute_result",
          "data": {
            "text/plain": [
              "(array([-0.67316517, -0.75466777,  0.53843597, -0.73312338,  0.11844911,\n",
              "        -0.48335944, -0.6565721 , -1.8417742 ]),\n",
              " array([-0.8654675 ,  1.11703496,  0.16712173,  0.46244198,  0.98934598,\n",
              "         0.60860555,  0.96234904, -0.30550287]))"
            ]
          },
          "metadata": {},
          "execution_count": 75
        }
      ]
    },
    {
      "cell_type": "code",
      "source": [
        "# compare the two arrays and find maximum element-wise\n",
        "np.maximum(x, y)"
      ],
      "metadata": {
        "colab": {
          "base_uri": "https://localhost:8080/"
        },
        "id": "qVPWOsYX0yIM",
        "outputId": "2ff03c36-8d27-4bd0-e06e-982cce8b599a"
      },
      "execution_count": null,
      "outputs": [
        {
          "output_type": "execute_result",
          "data": {
            "text/plain": [
              "array([-0.67316517,  1.11703496,  0.53843597,  0.46244198,  0.98934598,\n",
              "        0.60860555,  0.96234904, -0.30550287])"
            ]
          },
          "metadata": {},
          "execution_count": 76
        }
      ]
    },
    {
      "cell_type": "markdown",
      "source": [
        "## Data Processing Using Array\n",
        "\n",
        "When you work with NumPy arrays, you can perform a lot of data operations in a much simpler and faster way compared to writing traditional loops. This is called \"vectorization.\"\n",
        "\n",
        "Imagine you want to calculate the value of a mathematical function sqrt(x^2 + y^2) for various combinations of x and y on a grid. You want to do this efficiently without manually calculating each pair. The `np.meshgrid` fucntion takes two 1D arrays and produces two 2D matrices corresponding to all pairs of (x, y) in the two arrays"
      ],
      "metadata": {
        "id": "4tpGWBqy1CPj"
      }
    },
    {
      "cell_type": "code",
      "source": [
        "# Create an array 'points' containing 10000 equally spaced values from -5 to 5 with a step size of 0.001.\n",
        "points = np.arange(-5, 5, 0.001)\n",
        "\n",
        "# Create two 2D grids 'xs' and 'ys' using 'np.meshgrid'.\n",
        "# These grids represent all possible combinations of x and y values from 'points'.\n",
        "xs, ys = np.meshgrid(points, points)\n",
        "\n",
        "# 'ys' now contains a 2D grid representing all possible 'y' values in the range.\n",
        "ys"
      ],
      "metadata": {
        "colab": {
          "base_uri": "https://localhost:8080/"
        },
        "id": "JNhasf1734cO",
        "outputId": "c717603f-448d-4125-d222-5f051ca2a910"
      },
      "execution_count": null,
      "outputs": [
        {
          "output_type": "execute_result",
          "data": {
            "text/plain": [
              "array([[-5.   , -5.   , -5.   , ..., -5.   , -5.   , -5.   ],\n",
              "       [-4.999, -4.999, -4.999, ..., -4.999, -4.999, -4.999],\n",
              "       [-4.998, -4.998, -4.998, ..., -4.998, -4.998, -4.998],\n",
              "       ...,\n",
              "       [ 4.997,  4.997,  4.997, ...,  4.997,  4.997,  4.997],\n",
              "       [ 4.998,  4.998,  4.998, ...,  4.998,  4.998,  4.998],\n",
              "       [ 4.999,  4.999,  4.999, ...,  4.999,  4.999,  4.999]])"
            ]
          },
          "metadata": {},
          "execution_count": 77
        }
      ]
    },
    {
      "cell_type": "code",
      "source": [
        "import matplotlib.pyplot as plt\n",
        "\n",
        "z = np.sqrt(xs ** 2 + ys ** 2)\n",
        "z"
      ],
      "metadata": {
        "colab": {
          "base_uri": "https://localhost:8080/"
        },
        "id": "fnuu32vQ4cXt",
        "outputId": "c5377186-0035-4291-e67f-837b435439c6"
      },
      "execution_count": null,
      "outputs": [
        {
          "output_type": "execute_result",
          "data": {
            "text/plain": [
              "array([[7.07106781, 7.07036074, 7.06965374, ..., 7.06894681, 7.06965374,\n",
              "        7.07036074],\n",
              "       [7.07036074, 7.0696536 , 7.06894653, ..., 7.06823953, 7.06894653,\n",
              "        7.0696536 ],\n",
              "       [7.06965374, 7.06894653, 7.06823938, ..., 7.06753231, 7.06823938,\n",
              "        7.06894653],\n",
              "       ...,\n",
              "       [7.06894681, 7.06823953, 7.06753231, ..., 7.06682517, 7.06753231,\n",
              "        7.06823953],\n",
              "       [7.06965374, 7.06894653, 7.06823938, ..., 7.06753231, 7.06823938,\n",
              "        7.06894653],\n",
              "       [7.07036074, 7.0696536 , 7.06894653, ..., 7.06823953, 7.06894653,\n",
              "        7.0696536 ]])"
            ]
          },
          "metadata": {},
          "execution_count": 78
        }
      ]
    },
    {
      "cell_type": "code",
      "source": [
        "plt.imshow(z, cmap=plt.cm.gray);\n",
        "plt.colorbar()\n",
        "plt.title(\"Image plot of $\\sqrt{x^2 + y^2}$ for a grid of values\")"
      ],
      "metadata": {
        "colab": {
          "base_uri": "https://localhost:8080/",
          "height": 479
        },
        "id": "h3rARzSk7zh5",
        "outputId": "1c2ff9c5-acdb-4191-b76f-069dcd6061d2"
      },
      "execution_count": null,
      "outputs": [
        {
          "output_type": "execute_result",
          "data": {
            "text/plain": [
              "Text(0.5, 1.0, 'Image plot of $\\\\sqrt{x^2 + y^2}$ for a grid of values')"
            ]
          },
          "metadata": {},
          "execution_count": 79
        },
        {
          "output_type": "display_data",
          "data": {
            "text/plain": [
              "<Figure size 640x480 with 2 Axes>"
            ],
            "image/png": "[encoded data removed]"
          },
          "metadata": {}
        }
      ]
    },
    {
      "cell_type": "markdown",
      "source": [
        "#### Expressing Conditional Logic as Array Operations\n",
        "\n",
        "The `numpy.where` function is a vectorized version of the ternary expression `x if condition else y`"
      ],
      "metadata": {
        "id": "okQ9NFK_8EHn"
      }
    },
    {
      "cell_type": "code",
      "source": [
        "# Create two NumPy arrays, xarr and yarr, containing floating-point values.\n",
        "xarr = np.array([1.1, 1.2, 1.3, 1.4, 1.5])\n",
        "yarr = np.array([2.1, 2.2, 2.3, 2.4, 2.5])\n",
        "\n",
        "# Create a NumPy array, cond, containing boolean values (True and False).\n",
        "cond = np.array([True, False, True, True, False])\n",
        "\n",
        "# Use list comprehension to create a new list, 'result', by iterating through\n",
        "# the elements of xarr, yarr, and cond simultaneously.\n",
        "result = [(x if c else y) for x, y, c in zip(xarr, yarr, cond)]\n",
        "\n",
        "# 'result' now contains the values from xarr where the corresponding element\n",
        "# in 'cond' is True, and the values from yarr where 'cond' is False.\n",
        "\n",
        "# Print the 'result' list.\n",
        "result"
      ],
      "metadata": {
        "colab": {
          "base_uri": "https://localhost:8080/"
        },
        "id": "_FMRdGAzAiOB",
        "outputId": "f079e1b6-5706-457e-fa92-a54eb77c9f05"
      },
      "execution_count": null,
      "outputs": [
        {
          "output_type": "execute_result",
          "data": {
            "text/plain": [
              "[1.1, 2.2, 1.3, 1.4, 2.5]"
            ]
          },
          "metadata": {},
          "execution_count": 80
        }
      ]
    },
    {
      "cell_type": "markdown",
      "source": [
        "This has a multiple problems.\n",
        "* It will not be very fast for large arrays\n",
        "* It will not work for multidemsional arrays\n",
        "\n",
        "With `np.where` you can write this very concisely"
      ],
      "metadata": {
        "id": "LNeaYT3_F5NX"
      }
    },
    {
      "cell_type": "code",
      "source": [
        "result = np.where(cond, xarr, yarr)\n",
        "result"
      ],
      "metadata": {
        "colab": {
          "base_uri": "https://localhost:8080/"
        },
        "id": "VVUA_DtRH1LL",
        "outputId": "e55cbda8-6b3b-4098-eb21-4fbd4a574684"
      },
      "execution_count": null,
      "outputs": [
        {
          "output_type": "execute_result",
          "data": {
            "text/plain": [
              "array([1.1, 2.2, 1.3, 1.4, 2.5])"
            ]
          },
          "metadata": {},
          "execution_count": 81
        }
      ]
    },
    {
      "cell_type": "markdown",
      "source": [
        "A typical use of `where` in data analysis is to produce a new array of values based on another array.\n",
        "\n",
        "Suppose you gad a matrix of randomly generated data and you wanted to replace all positive values with 2 and all negative values with -2"
      ],
      "metadata": {
        "id": "qNfs4rLRIcGj"
      }
    },
    {
      "cell_type": "code",
      "source": [
        "arr = np.random.randn(4, 4)\n",
        "arr"
      ],
      "metadata": {
        "colab": {
          "base_uri": "https://localhost:8080/"
        },
        "id": "t6f0nvKCR7Y9",
        "outputId": "9c2f6dd1-d608-4e72-847c-c6e6fc82c433"
      },
      "execution_count": null,
      "outputs": [
        {
          "output_type": "execute_result",
          "data": {
            "text/plain": [
              "array([[ 3.70081678, -1.3270488 ,  1.02847192, -0.02207108],\n",
              "       [-0.61579016, -0.86289871, -0.20530406,  0.64914515],\n",
              "       [ 0.667869  ,  0.038537  , -0.91144731, -0.96850509],\n",
              "       [-0.34587556, -1.34635701,  0.24535123, -0.19379911]])"
            ]
          },
          "metadata": {},
          "execution_count": 82
        }
      ]
    },
    {
      "cell_type": "code",
      "source": [
        "np.where(arr > 0, 2, -2)"
      ],
      "metadata": {
        "colab": {
          "base_uri": "https://localhost:8080/"
        },
        "id": "OYlTdipbSBNo",
        "outputId": "f0b13f47-7f3f-49b0-8bb6-3762b869887f"
      },
      "execution_count": null,
      "outputs": [
        {
          "output_type": "execute_result",
          "data": {
            "text/plain": [
              "array([[ 2, -2,  2, -2],\n",
              "       [-2, -2, -2,  2],\n",
              "       [ 2,  2, -2, -2],\n",
              "       [-2, -2,  2, -2]])"
            ]
          },
          "metadata": {},
          "execution_count": 83
        }
      ]
    },
    {
      "cell_type": "code",
      "source": [
        "# set only postive values to 2\n",
        "np.where(arr > 0, 2, arr)"
      ],
      "metadata": {
        "colab": {
          "base_uri": "https://localhost:8080/"
        },
        "id": "Qc1iSBN4SGwA",
        "outputId": "d75dfd4b-48a2-410b-c391-fab4731d7632"
      },
      "execution_count": null,
      "outputs": [
        {
          "output_type": "execute_result",
          "data": {
            "text/plain": [
              "array([[ 2.        , -1.3270488 ,  2.        , -0.02207108],\n",
              "       [-0.61579016, -0.86289871, -0.20530406,  2.        ],\n",
              "       [ 2.        ,  2.        , -0.91144731, -0.96850509],\n",
              "       [-0.34587556, -1.34635701,  2.        , -0.19379911]])"
            ]
          },
          "metadata": {},
          "execution_count": 84
        }
      ]
    },
    {
      "cell_type": "markdown",
      "source": [
        "####Mathematical and Statistical Methods\n",
        "\n",
        "A set of mathematical functions which compute statistic about an entire array or about the data along an axis are accessible as array methods.\n",
        "\n",
        "Aggregations like sum, mean and std can either be used by calling the array instance method or using the top level NumPy function"
      ],
      "metadata": {
        "id": "2ytWBfAySlbI"
      }
    },
    {
      "cell_type": "code",
      "source": [
        "arr = np.random.randn(5, 4)\n",
        "arr.mean()"
      ],
      "metadata": {
        "colab": {
          "base_uri": "https://localhost:8080/"
        },
        "id": "YzQZo-b_TS1P",
        "outputId": "cd490657-a9ec-4db6-c8b5-2ac65f0cb4cf"
      },
      "execution_count": null,
      "outputs": [
        {
          "output_type": "execute_result",
          "data": {
            "text/plain": [
              "-0.17713502882498286"
            ]
          },
          "metadata": {},
          "execution_count": 85
        }
      ]
    },
    {
      "cell_type": "code",
      "source": [
        "np.mean(arr)"
      ],
      "metadata": {
        "colab": {
          "base_uri": "https://localhost:8080/"
        },
        "id": "nYlXMDpwTuus",
        "outputId": "85cd4a4a-a6af-48f0-ada8-38344b466f3b"
      },
      "execution_count": null,
      "outputs": [
        {
          "output_type": "execute_result",
          "data": {
            "text/plain": [
              "-0.17713502882498286"
            ]
          },
          "metadata": {},
          "execution_count": 86
        }
      ]
    },
    {
      "cell_type": "code",
      "source": [
        "arr.sum()"
      ],
      "metadata": {
        "colab": {
          "base_uri": "https://localhost:8080/"
        },
        "id": "qtJxa6lQTxWy",
        "outputId": "174f366a-4edf-4c21-a1d7-8ec1a71b7b25"
      },
      "execution_count": null,
      "outputs": [
        {
          "output_type": "execute_result",
          "data": {
            "text/plain": [
              "-3.5427005764996573"
            ]
          },
          "metadata": {},
          "execution_count": 87
        }
      ]
    },
    {
      "cell_type": "code",
      "source": [
        "arr.mean()"
      ],
      "metadata": {
        "id": "oyjFU0eLUCrD",
        "colab": {
          "base_uri": "https://localhost:8080/"
        },
        "outputId": "33b499e5-93ce-455a-d409-726e03b56ef0"
      },
      "execution_count": null,
      "outputs": [
        {
          "output_type": "execute_result",
          "data": {
            "text/plain": [
              "-0.17713502882498286"
            ]
          },
          "metadata": {},
          "execution_count": 89
        }
      ]
    },
    {
      "cell_type": "markdown",
      "source": [
        "###Sorting\n",
        "\n",
        "Like list in Py, NumPy can also be sorted using `sort` method."
      ],
      "metadata": {
        "id": "472cCpz-eoc0"
      }
    },
    {
      "cell_type": "code",
      "source": [
        "arr = np.random.randn(8)\n",
        "arr"
      ],
      "metadata": {
        "colab": {
          "base_uri": "https://localhost:8080/"
        },
        "id": "384Oqe6re0p2",
        "outputId": "51ba431b-d908-4af9-9e64-8af0d244994c"
      },
      "execution_count": null,
      "outputs": [
        {
          "output_type": "execute_result",
          "data": {
            "text/plain": [
              "array([-1.14183099,  0.01412467, -0.12590829,  0.38500134, -1.6478873 ,\n",
              "        0.55781618, -0.67651292, -0.90138817])"
            ]
          },
          "metadata": {},
          "execution_count": 92
        }
      ]
    },
    {
      "cell_type": "code",
      "source": [
        "arr.sort()\n",
        "arr"
      ],
      "metadata": {
        "colab": {
          "base_uri": "https://localhost:8080/"
        },
        "id": "D2pLlRWpe57H",
        "outputId": "aa6e023f-d9ee-4498-f2ff-663174b9639d"
      },
      "execution_count": null,
      "outputs": [
        {
          "output_type": "execute_result",
          "data": {
            "text/plain": [
              "array([-1.6478873 , -1.14183099, -0.90138817, -0.67651292, -0.12590829,\n",
              "        0.01412467,  0.38500134,  0.55781618])"
            ]
          },
          "metadata": {},
          "execution_count": 94
        }
      ]
    },
    {
      "cell_type": "markdown",
      "source": [
        "Multidimensional arrays can have each 1D section of values sorted in-place along by passing the axis number to `sort`"
      ],
      "metadata": {
        "id": "Suo02H5NfMTb"
      }
    },
    {
      "cell_type": "code",
      "source": [
        "arr = np.random.randn(5, 3)\n",
        "arr"
      ],
      "metadata": {
        "colab": {
          "base_uri": "https://localhost:8080/"
        },
        "id": "XMv_r76OffEN",
        "outputId": "fd6aa9cb-264e-4640-e420-d4156455a1cb"
      },
      "execution_count": null,
      "outputs": [
        {
          "output_type": "execute_result",
          "data": {
            "text/plain": [
              "array([[ 2.5351562 ,  0.57875147, -1.3039334 ],\n",
              "       [-0.29234192,  0.29214644, -0.76397014],\n",
              "       [ 1.20664365, -0.53694398, -0.31206462],\n",
              "       [ 1.03638163, -1.94648744,  1.91175879],\n",
              "       [ 0.20884091,  0.29697167,  0.80371256]])"
            ]
          },
          "metadata": {},
          "execution_count": 96
        }
      ]
    },
    {
      "cell_type": "code",
      "source": [
        "# Sort the elements along the second axis (axis=1) of the array 'arr'\n",
        "# This rearranges the elements of each row in ascending order within the same row\n",
        "arr.sort(1)\n",
        "arr"
      ],
      "metadata": {
        "colab": {
          "base_uri": "https://localhost:8080/"
        },
        "id": "nNYOAsBVfiog",
        "outputId": "0b9740c7-4b31-4a4f-d727-3ce824572772"
      },
      "execution_count": null,
      "outputs": [
        {
          "output_type": "execute_result",
          "data": {
            "text/plain": [
              "array([[-1.3039334 ,  0.57875147,  2.5351562 ],\n",
              "       [-0.76397014, -0.29234192,  0.29214644],\n",
              "       [-0.53694398, -0.31206462,  1.20664365],\n",
              "       [-1.94648744,  1.03638163,  1.91175879],\n",
              "       [ 0.20884091,  0.29697167,  0.80371256]])"
            ]
          },
          "metadata": {},
          "execution_count": 98
        }
      ]
    },
    {
      "cell_type": "markdown",
      "source": [
        "The top level method `np.sort` returns a sorted copy of an array instead of modifying the array in place."
      ],
      "metadata": {
        "id": "Q6FnM6y3fo4h"
      }
    },
    {
      "cell_type": "code",
      "source": [
        "# Generate an array of 1000 random values from a standard normal distribution (mean=0, std=1)\n",
        "large_arr = np.random.randn(1000)\n",
        "\n",
        "# Sort the array in ascending order\n",
        "large_arr.sort()\n",
        "\n",
        "# Calculate and retrieve the value at the 5th percentile (5% quantile) of the sorted array\n",
        "# This value represents the threshold below which 5% of the data falls\n",
        "value_at_5th_percentile = large_arr[int(0.05 * len(large_arr))]\n",
        "value_at_5th_percentile"
      ],
      "metadata": {
        "colab": {
          "base_uri": "https://localhost:8080/"
        },
        "id": "sqH-pxk9gM2A",
        "outputId": "70f3b7d6-6b31-43d0-d2ce-9f727db490e4"
      },
      "execution_count": null,
      "outputs": [
        {
          "output_type": "execute_result",
          "data": {
            "text/plain": [
              "-1.5938690392349815"
            ]
          },
          "metadata": {},
          "execution_count": 102
        }
      ]
    },
    {
      "cell_type": "markdown",
      "source": [
        "In the above code, you are generating a large array of random values from a standard normal distribution, sorting it in ascending order, and then calculating the value at the 5th percentile, which represents the threshold below which 5% of the data falls. This is a common statistical operation used to understand the distribution of data and identify outliers."
      ],
      "metadata": {
        "id": "F1k2RdtkgdQt"
      }
    },
    {
      "cell_type": "markdown",
      "source": [
        "### Unique and Other Set Logic\n",
        "NumPy has some basic set operations for one-dimensional ndarrays. Probably the most commonly used one is `np.unique`, which returns the sorted unique values in an array"
      ],
      "metadata": {
        "id": "5UrBk8SyhC1u"
      }
    },
    {
      "cell_type": "code",
      "source": [
        "names = np.asarray(['Bob', \"Joe\", \"Will\", \"Bob\", \"Will\", \"Joe\", \"Tom\"])\n",
        "np.unique(names)"
      ],
      "metadata": {
        "colab": {
          "base_uri": "https://localhost:8080/"
        },
        "id": "Dk_6sIJ6hhTi",
        "outputId": "8cf92245-c4d3-460d-d0d8-82807862bd18"
      },
      "execution_count": null,
      "outputs": [
        {
          "output_type": "execute_result",
          "data": {
            "text/plain": [
              "array(['Bob', 'Joe', 'Tom', 'Will'], dtype='<U4')"
            ]
          },
          "metadata": {},
          "execution_count": 104
        }
      ]
    },
    {
      "cell_type": "markdown",
      "source": [
        "Pure Python alternative"
      ],
      "metadata": {
        "id": "H8ACXyw_iU8K"
      }
    },
    {
      "cell_type": "code",
      "source": [
        "sorted(set(names))"
      ],
      "metadata": {
        "colab": {
          "base_uri": "https://localhost:8080/"
        },
        "id": "G3Xb8xofihli",
        "outputId": "bde5d3ef-3257-4ad3-9535-74862fd22016"
      },
      "execution_count": null,
      "outputs": [
        {
          "output_type": "execute_result",
          "data": {
            "text/plain": [
              "['Bob', 'Joe', 'Tom', 'Will']"
            ]
          },
          "metadata": {},
          "execution_count": 105
        }
      ]
    },
    {
      "cell_type": "markdown",
      "source": [
        "Another function, `np.in1d`, test membership of values in one array in another, returning a boolean array\n",
        "\n",
        "This operation is useful for filtering or selecting specific elements from an array based on their presence in another list."
      ],
      "metadata": {
        "id": "3vUSLMKWikzt"
      }
    },
    {
      "cell_type": "code",
      "source": [
        "# Create an array 'values' with some integers\n",
        "values = np.array([6, 0, 0, 3, 2, 5, 6])\n",
        "\n",
        "# Check if each element in 'values' is present in the given list [2, 3, 6]\n",
        "# The function np.in1d() returns a Boolean array where each element corresponds\n",
        "# to whether it exists in the given list (True) or not (False).\n",
        "result = np.in1d(values, [2, 3, 6])\n",
        "result"
      ],
      "metadata": {
        "colab": {
          "base_uri": "https://localhost:8080/"
        },
        "id": "I5ow8FSOi6lS",
        "outputId": "44e3e67d-77b8-4f59-c1c4-40e0a7cf011b"
      },
      "execution_count": null,
      "outputs": [
        {
          "output_type": "execute_result",
          "data": {
            "text/plain": [
              "array([ True, False, False,  True,  True, False,  True])"
            ]
          },
          "metadata": {},
          "execution_count": 107
        }
      ]
    },
    {
      "cell_type": "markdown",
      "source": [
        "## File Input and Output with Arrays\n",
        "\n",
        "NumPy is able to save and load data to and from disk either in text or binary format."
      ],
      "metadata": {
        "id": "u-ju9a7xjLFk"
      }
    },
    {
      "cell_type": "markdown",
      "source": [
        "### Storing Arrays on Disk in Binary Format\n",
        "\n",
        "`np.save` and `np.load` are two workhorse function for efficiently saving and loading array data on disk. Arrays are saved by default in an uncompressed raw binary format with file extesion `.npy`"
      ],
      "metadata": {
        "id": "lHkMyxzQldPr"
      }
    },
    {
      "cell_type": "code",
      "source": [
        "# Create a NumPy array 'arr' containing values from 0 to 9 (10 elements)\n",
        "arr = np.arange(10)\n",
        "\n",
        "# Save the 'arr' array to a file named 'some_array.npy' using np.save\n",
        "# The file will be saved in the current working directory of your Colab notebook\n",
        "np.save('some_array', arr)"
      ],
      "metadata": {
        "id": "ip39r6y6mLQx"
      },
      "execution_count": null,
      "outputs": []
    },
    {
      "cell_type": "markdown",
      "source": [
        "You can now look at the file section and you will find \"some_array.npy\" file\n",
        "\n",
        "You can now load the file using `np.load`"
      ],
      "metadata": {
        "id": "MEL1rIlWmqiF"
      }
    },
    {
      "cell_type": "code",
      "source": [
        "np.load(\"some_array.npy\")"
      ],
      "metadata": {
        "colab": {
          "base_uri": "https://localhost:8080/"
        },
        "id": "RjWgtMtunDy-",
        "outputId": "fd79fd20-686f-4a2e-b5bb-1a06fc9b9e4f"
      },
      "execution_count": null,
      "outputs": [
        {
          "output_type": "execute_result",
          "data": {
            "text/plain": [
              "array([0, 1, 2, 3, 4, 5, 6, 7, 8, 9])"
            ]
          },
          "metadata": {},
          "execution_count": 110
        }
      ]
    },
    {
      "cell_type": "markdown",
      "source": [
        "You can also save multiple arrays in a zip archive using `np.savez` and passing the arrays as key-word arguments."
      ],
      "metadata": {
        "id": "NsvetaUVnVMW"
      }
    },
    {
      "cell_type": "code",
      "source": [
        "np.savez('array_archive.npz', a=arr, b=arr)"
      ],
      "metadata": {
        "id": "0CN-hoVZnv5p"
      },
      "execution_count": null,
      "outputs": []
    },
    {
      "cell_type": "markdown",
      "source": [
        "When loading an `.npz` file, you get back a dict-like object ehich loads the individual arrays lazily"
      ],
      "metadata": {
        "id": "F5g3KmdTn7_R"
      }
    },
    {
      "cell_type": "code",
      "source": [
        "arch = np.load('array_archive.npz')\n",
        "arch['b']"
      ],
      "metadata": {
        "colab": {
          "base_uri": "https://localhost:8080/"
        },
        "id": "GQPJqsRioNTT",
        "outputId": "dee95a90-fde9-4b18-cb92-26a212d6f21d"
      },
      "execution_count": null,
      "outputs": [
        {
          "output_type": "execute_result",
          "data": {
            "text/plain": [
              "array([0, 1, 2, 3, 4, 5, 6, 7, 8, 9])"
            ]
          },
          "metadata": {},
          "execution_count": 112
        }
      ]
    },
    {
      "cell_type": "code",
      "source": [
        "arch['a']"
      ],
      "metadata": {
        "colab": {
          "base_uri": "https://localhost:8080/"
        },
        "id": "SxGbin8doT3B",
        "outputId": "1f139d0e-11f1-4589-a21f-c0dc7b69e0c5"
      },
      "execution_count": null,
      "outputs": [
        {
          "output_type": "execute_result",
          "data": {
            "text/plain": [
              "array([0, 1, 2, 3, 4, 5, 6, 7, 8, 9])"
            ]
          },
          "metadata": {},
          "execution_count": 113
        }
      ]
    },
    {
      "cell_type": "markdown",
      "source": [
        "## Linear Algebra\n",
        "\n",
        "Linear algebra, like matrix multiplication, decompositions, determinants and other square matrix math, is an important part of any array library.\n",
        "\n",
        "\n",
        "In Python and NumPy, when you use the `*` operator to multiply two two-dimensional arrays, it performs an element-wise multiplication, meaning it multiplies corresponding elements of the arrays together. This is different from some other languages like MATLAB, where `*` can perform matrix dot multiplication.\n",
        "\n",
        "To perform matrix dot multiplication in NumPy, you should use the `dot` function, which can be applied as both an array method and a standalone function from the numpy namespace. This function allows you to perform proper matrix multiplication, which is essential for various mathematical and scientific computations involving matrices."
      ],
      "metadata": {
        "id": "8_6iWWoIoYBC"
      }
    },
    {
      "cell_type": "code",
      "source": [
        "x = np.array([[1., 2., 3.], [4., 5., 6.]])\n",
        "y = np.array([[6., 23.], [-1, 7], [8, 9]])\n",
        "\n",
        "x, y"
      ],
      "metadata": {
        "colab": {
          "base_uri": "https://localhost:8080/"
        },
        "id": "VzJet-QArwTt",
        "outputId": "ea385353-36ca-46d6-ef0d-0a6566ddefbc"
      },
      "execution_count": null,
      "outputs": [
        {
          "output_type": "execute_result",
          "data": {
            "text/plain": [
              "(array([[1., 2., 3.],\n",
              "        [4., 5., 6.]]),\n",
              " array([[ 6., 23.],\n",
              "        [-1.,  7.],\n",
              "        [ 8.,  9.]]))"
            ]
          },
          "metadata": {},
          "execution_count": 117
        }
      ]
    },
    {
      "cell_type": "code",
      "source": [
        "x.dot(y) # equivalently np.dot(x, y)"
      ],
      "metadata": {
        "colab": {
          "base_uri": "https://localhost:8080/"
        },
        "id": "t08IZodZsWlA",
        "outputId": "cafaab9a-a0c7-4f41-8f4c-49d3dccaa565"
      },
      "execution_count": null,
      "outputs": [
        {
          "output_type": "execute_result",
          "data": {
            "text/plain": [
              "array([[ 28.,  64.],\n",
              "       [ 67., 181.]])"
            ]
          },
          "metadata": {},
          "execution_count": 118
        }
      ]
    },
    {
      "cell_type": "markdown",
      "source": [
        "A matrix product between a 2D array and a suitably sized 1D array results in a 1D array"
      ],
      "metadata": {
        "id": "gV2U7Bx4tfUX"
      }
    },
    {
      "cell_type": "code",
      "source": [
        "np.dot(x, np.ones(3))"
      ],
      "metadata": {
        "colab": {
          "base_uri": "https://localhost:8080/"
        },
        "id": "R4z7Nfzgtu8R",
        "outputId": "d919afb1-f913-4d6e-81d2-18eac9637eed"
      },
      "execution_count": null,
      "outputs": [
        {
          "output_type": "execute_result",
          "data": {
            "text/plain": [
              "array([ 6., 15.])"
            ]
          },
          "metadata": {},
          "execution_count": 119
        }
      ]
    },
    {
      "cell_type": "markdown",
      "source": [
        "In NumPy, the `numpy.linalg` module provides a standard set of matrix decomposition functions, as well as operations like calculating the inverse and determinant of matrices.\n",
        "\n",
        "\n",
        "These libraries are highly optimized and provide efficient and accurate implementations of linear algebra operations. NumPy leverages these libraries to ensure that matrix computations are performed reliably and efficiently, making it a powerful tool for scientific and numerical computing tasks."
      ],
      "metadata": {
        "id": "ARfAyiFztzpZ"
      }
    },
    {
      "cell_type": "code",
      "source": [
        "# Import the 'inv' (inverse) and 'qr' (QR decomposition) functions from the 'numpy.linalg' module\n",
        "from numpy.linalg import inv, qr\n",
        "\n",
        "# Generate a random 5x5 matrix 'X' with values sampled from a standard normal distribution\n",
        "X = np.random.randn(5, 5)\n",
        "\n",
        "# Calculate the matrix product of the transpose of 'X' and 'X' (X.T.dot(X))\n",
        "mat = X.T.dot(X)\n",
        "\n",
        "# Calculate the inverse of the 'mat' matrix using 'inv' function\n",
        "# 'inv' computes the matrix inverse, if it exists\n",
        "inverse_mat = inv(mat)\n",
        "inverse_mat"
      ],
      "metadata": {
        "colab": {
          "base_uri": "https://localhost:8080/"
        },
        "id": "9N824DHYunBV",
        "outputId": "6900c33c-ee8a-433b-8005-b8181e331bcc"
      },
      "execution_count": null,
      "outputs": [
        {
          "output_type": "execute_result",
          "data": {
            "text/plain": [
              "array([[ 31.97081043,  28.42615289,   0.14985358, -39.07816225,\n",
              "         -4.96807341],\n",
              "       [ 28.42615289,  26.5120905 ,   0.28243882, -35.55983897,\n",
              "         -4.42066329],\n",
              "       [  0.14985358,   0.28243882,   0.45280918,   0.39695109,\n",
              "          0.14135168],\n",
              "       [-39.07816225, -35.55983897,   0.39695109,  49.7877258 ,\n",
              "          6.35541191],\n",
              "       [ -4.96807341,  -4.42066329,   0.14135168,   6.35541191,\n",
              "          0.9548968 ]])"
            ]
          },
          "metadata": {},
          "execution_count": 121
        }
      ]
    },
    {
      "cell_type": "code",
      "source": [
        "mat.dot(inv(mat))"
      ],
      "metadata": {
        "colab": {
          "base_uri": "https://localhost:8080/"
        },
        "id": "m02bvg-Avbxe",
        "outputId": "896d52de-2de5-4649-f371-8863ef3f4353"
      },
      "execution_count": null,
      "outputs": [
        {
          "output_type": "execute_result",
          "data": {
            "text/plain": [
              "array([[ 1.00000000e+00,  6.41995150e-16, -4.97614980e-16,\n",
              "         2.49219273e-14,  2.93146804e-15],\n",
              "       [ 1.24831866e-14,  1.00000000e+00,  2.72123786e-16,\n",
              "         1.33016898e-14,  9.07247000e-16],\n",
              "       [ 4.42627108e-15,  1.69369077e-15,  1.00000000e+00,\n",
              "         9.20121580e-16, -1.68964941e-15],\n",
              "       [ 5.05149650e-15,  8.97494234e-15, -9.96319352e-17,\n",
              "         1.00000000e+00, -2.25762517e-16],\n",
              "       [-4.03113273e-15,  3.13290218e-15, -4.34819149e-16,\n",
              "         5.32457206e-15,  1.00000000e+00]])"
            ]
          },
          "metadata": {},
          "execution_count": 122
        }
      ]
    },
    {
      "cell_type": "code",
      "source": [
        "# Perform QR decomposition of the matrix 'mat' using the numpy.linalg.qr() function\n",
        "# QR decomposition decomposes 'mat' into the product of an orthogonal matrix 'q'\n",
        "# and an upper triangular matrix 'r'\n",
        "q, r = np.linalg.qr(mat)\n",
        "r"
      ],
      "metadata": {
        "colab": {
          "base_uri": "https://localhost:8080/"
        },
        "id": "PljLbgn3vgbc",
        "outputId": "5e4626e3-b564-42c4-c03a-7268d515c906"
      },
      "execution_count": 125,
      "outputs": [
        {
          "output_type": "execute_result",
          "data": {
            "text/plain": [
              "array([[-2.53642481, -3.4687168 ,  9.37522391, -3.99462434, -4.36311323],\n",
              "       [ 0.        , -3.12461268,  4.20087595, -2.55890995,  2.2754875 ],\n",
              "       [ 0.        ,  0.        , -2.11652266, -0.67690658,  5.35028532],\n",
              "       [ 0.        ,  0.        ,  0.        , -0.63287169,  4.9853762 ],\n",
              "       [ 0.        ,  0.        ,  0.        ,  0.        ,  0.10811785]])"
            ]
          },
          "metadata": {},
          "execution_count": 125
        }
      ]
    },
    {
      "cell_type": "markdown",
      "source": [
        "## Random Number Generator\n",
        "\n",
        "The `numpy.random` module supplements the built-in Python `random` with functions for efficiently generating whole arrays of sample values from many of probability distribution.\n",
        "\n",
        "For example, you can get a 4 by 4 array of samples from standard normal distribution using `normal`"
      ],
      "metadata": {
        "id": "CjyNI-ZHvme3"
      }
    },
    {
      "cell_type": "code",
      "source": [
        "samples = np.random.normal(size=(4, 4))\n",
        "samples"
      ],
      "metadata": {
        "colab": {
          "base_uri": "https://localhost:8080/"
        },
        "id": "AXxQqRx2yEU1",
        "outputId": "bf38d990-4d4c-46ff-fd14-3897e5582438"
      },
      "execution_count": 126,
      "outputs": [
        {
          "output_type": "execute_result",
          "data": {
            "text/plain": [
              "array([[ 0.00576051,  1.82338277, -1.19698344, -1.48703862],\n",
              "       [ 0.98030426, -0.71777616, -0.11372297, -0.52927426],\n",
              "       [-0.6082013 ,  0.61501866,  0.78008416,  1.16083276],\n",
              "       [ 1.99401299, -0.11736998, -0.38456537,  0.4129614 ]])"
            ]
          },
          "metadata": {},
          "execution_count": 126
        }
      ]
    },
    {
      "cell_type": "markdown",
      "source": [
        "Python’s built-in `random` module, by contrast, only samples one value at a time. As you\n",
        "can see from this benchmark, `numpy.random` is well over an order of magnitude faster\n",
        "for generating very large samples"
      ],
      "metadata": {
        "id": "zu73YKGKyMlN"
      }
    },
    {
      "cell_type": "code",
      "source": [
        "# Import the 'normalvariate' function from the 'random' module for generating random normal samples\n",
        "from random import normalvariate\n",
        "\n",
        "# Import the 'numpy' library for the alternative method\n",
        "import numpy as np\n",
        "\n",
        "# Define the number of samples to generate\n",
        "N = 1000000\n",
        "\n",
        "# Generate random normal samples using a list comprehension and 'normalvariate'\n",
        "# Measure the time it takes using the '%timeit' magic command\n",
        "# This method generates one sample at a time, which can be relatively slow for a large number of samples\n",
        "%timeit samples = [normalvariate(0, 1) for _ in range(N)]\n",
        "\n",
        "# Generate random normal samples using 'np.random.normal'\n",
        "# Measure the time it takes using the '%timeit' magic command\n",
        "# This method is optimized for generating a large number of samples efficiently\n",
        "%timeit np.random.normal(size=N)"
      ],
      "metadata": {
        "colab": {
          "base_uri": "https://localhost:8080/"
        },
        "id": "kcFwDYEUyiro",
        "outputId": "fd4ea38f-abaa-4672-ba8c-674ea601bcf2"
      },
      "execution_count": 128,
      "outputs": [
        {
          "output_type": "stream",
          "name": "stdout",
          "text": [
            "1.04 s ± 331 ms per loop (mean ± std. dev. of 7 runs, 1 loop each)\n",
            "33.6 ms ± 609 µs per loop (mean ± std. dev. of 7 runs, 10 loops each)\n"
          ]
        }
      ]
    },
    {
      "cell_type": "code",
      "source": [
        "import numpy as np\n",
        "\n",
        "# Number of steps in the random walk\n",
        "nsteps = 1000\n",
        "\n",
        "# Simulate random coin flips (0 or 1) for steps\n",
        "draws = np.random.randint(0, 2, size=nsteps)\n",
        "\n",
        "# Convert coin flips to steps (1 or -1)\n",
        "steps = np.where(draws > 0, 1, -1)\n",
        "\n",
        "# Calculate the cumulative sum to get the random walk\n",
        "walk = np.cumsum(steps)\n",
        "\n",
        "# Find the minimum and maximum values along the walk's trajectory\n",
        "walk_min = walk.min()\n",
        "walk_max = walk.max()\n",
        "\n",
        "# Find the index of the first crossing time when walk reaches 10 or -10\n",
        "crossing_time = (np.abs(walk) >= 10).argmax()\n",
        "\n",
        "# Print the results\n",
        "print(\"Minimum value in the walk:\", walk_min)\n",
        "print(\"Maximum value in the walk:\", walk_max)\n",
        "print(\"First crossing time (reaching 10 or -10):\", crossing_time)\n"
      ],
      "metadata": {
        "colab": {
          "base_uri": "https://localhost:8080/"
        },
        "id": "O5IEtrLqy3Yl",
        "outputId": "c1e9ad36-3c36-44df-9126-a291937998cb"
      },
      "execution_count": 129,
      "outputs": [
        {
          "output_type": "stream",
          "name": "stdout",
          "text": [
            "Minimum value in the walk: -49\n",
            "Maximum value in the walk: 7\n",
            "First crossing time (reaching 10 or -10): 251\n"
          ]
        }
      ]
    },
    {
      "cell_type": "code",
      "source": [],
      "metadata": {
        "id": "NG5iHDnf2r_b"
      },
      "execution_count": null,
      "outputs": []
    }
  ]
}